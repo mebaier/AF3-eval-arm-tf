{
 "cells": [
  {
   "cell_type": "code",
   "execution_count": null,
   "id": "4288b9c9",
   "metadata": {},
   "outputs": [],
   "source": [
    "import pandas as pd\n",
    "import matplotlib.pyplot as plt\n",
    "import numpy as np\n",
    "import os\n",
    "import json\n",
    "import csv\n",
    "from datetime import datetime"
   ]
  },
  {
   "cell_type": "code",
   "execution_count": null,
   "id": "091862b7",
   "metadata": {},
   "outputs": [],
   "source": [
    "\n",
    "\n",
    "#results_folders = [os.path.join(\"../results_AF\", folder) for folder in os.listdir(\"../results_AF\") if os.path.isdir(os.path.join(\"../results_AF\", folder))]\n",
    "results_folders = [\"../results_AF/folds_2025_05_05_09_19\",\n",
    "                   \"../results_AF/folds_2025_05_05_10_57\",\n",
    "                   \"../results_AF/folds_2025_05_05_13_05\"]\n",
    "ignore_file = \"ignore_list_AF_out.txt\"\n",
    "\n",
    "# Load ignore list\n",
    "ignore_jobs = set()\n",
    "if os.path.exists(ignore_file):\n",
    "    with open(ignore_file, \"r\") as f:\n",
    "        for line in f:\n",
    "            name = line.strip()\n",
    "            if name:\n",
    "                ignore_jobs.add(name)\n",
    "\n",
    "results = []\n",
    "extracted_jobs = []\n",
    "\n",
    "\n",
    "# Iterate over each folder in results_folders\n",
    "all_jobs_data = []\n",
    "for results_folder in results_folders:\n",
    "    if not os.path.isdir(results_folder):\n",
    "        print(f\"Warning: {results_folder} does not exist or is not a directory, skipping.\")\n",
    "        continue\n",
    "\n",
    "    for job_folder in os.listdir(results_folder):\n",
    "        job_path = os.path.join(results_folder, job_folder)\n",
    "        if not os.path.isdir(job_path):\n",
    "            continue\n",
    "\n",
    "        for file_name in os.listdir(job_path):\n",
    "            if file_name.endswith(\".json\") and \"summary_confidences\" in file_name:\n",
    "                with open(os.path.join(job_path, file_name)) as json_file:\n",
    "                    data = json.load(json_file)\n",
    "                    result_number = int(file_name.split(\"_\")[-1].split(\".\")[0])\n",
    "                    data[\"Job Folder\"] = job_folder\n",
    "                    data[\"Result Number\"] = result_number\n",
    "                    all_jobs_data.append(data)\n",
    "\n",
    "# Create a DataFrame from the collected data\n",
    "df = pd.DataFrame(all_jobs_data)\n",
    "\n",
    "# Set the index to be the job name and result number\n",
    "df.set_index([\"Job Folder\", \"Result Number\"], inplace=True)"
   ]
  },
  {
   "cell_type": "code",
   "execution_count": null,
   "id": "0dee484a",
   "metadata": {},
   "outputs": [],
   "source": [
    "\n",
    "\n",
    "# Calculate statistics\n",
    "mean_iptm = df[\"iptm\"].mean()\n",
    "std_iptm = df[\"iptm\"].std()\n",
    "mean_ptm = df[\"ptm\"].mean()\n",
    "std_ptm = df[\"ptm\"].std()\n"
   ]
  },
  {
   "cell_type": "code",
   "execution_count": null,
   "id": "4ba58a68",
   "metadata": {},
   "outputs": [],
   "source": [
    "\n",
    "\n",
    "# Print the statistics\n",
    "print(f\"Number of analyzed jobs: {len(df)}\")\n",
    "print(f\"iPTM - Mean: {mean_iptm:.2f}, Standard Deviation: {std_iptm:.2f}\")\n",
    "print(f\"PTM - Mean: {mean_ptm:.2f}, Standard Deviation: {std_ptm:.2f}\")\n",
    "\n",
    "# Calculate and print the minimum and maximum values for iPTM and PTM\n",
    "min_iptm = df[\"iptm\"].min()\n",
    "max_iptm = df[\"iptm\"].max()\n",
    "min_ptm = df[\"ptm\"].min()\n",
    "max_ptm = df[\"ptm\"].max()\n",
    "\n",
    "print(f\"iPTM - Min: {min_iptm:.2f}, Max: {max_iptm:.2f}\")\n",
    "print(f\"PTM - Min: {min_ptm:.2f}, Max: {max_ptm:.2f}\")\n"
   ]
  },
  {
   "cell_type": "code",
   "execution_count": null,
   "id": "393bfad0",
   "metadata": {},
   "outputs": [],
   "source": [
    "highest_iptm_row = df.loc[df['iptm'].idxmax()]\n",
    "print(highest_iptm_row)"
   ]
  },
  {
   "cell_type": "code",
   "execution_count": null,
   "id": "4a12e283",
   "metadata": {},
   "outputs": [],
   "source": [
    "# List iPTM scores for jobs with iPTM between 0.6 and 0.8\n",
    "print(\"\\nJobs with iPTM between 0.6 and 0.8 and their iPTM scores:\")\n",
    "for job in jobs_iptm_06_08:\n",
    "    scores = df.loc[job, 'iptm'].tolist()\n",
    "    print(f\"{job}: {scores}\")\n",
    "\n",
    "# List iPTM scores for jobs with iPTM between 0.8 and 1\n",
    "print(\"\\nJobs with iPTM between 0.8 and 1 and their iPTM scores:\")\n",
    "for job in jobs_iptm_08_1:\n",
    "    scores = df.loc[job, 'iptm'].tolist()\n",
    "    print(f\"{job}: {scores}\")"
   ]
  },
  {
   "cell_type": "code",
   "execution_count": null,
   "id": "b6d2bb62",
   "metadata": {},
   "outputs": [],
   "source": [
    "\n",
    "# Plot the iPTM and PTM scores\n",
    "plt.figure(figsize=(10, 6))\n",
    "plt.plot(df.index.get_level_values(\"Result Number\"), df[\"iptm\"], label=\"iPTM\", marker=\"o\", linestyle=\"--\", color=\"blue\")\n",
    "plt.plot(df.index.get_level_values(\"Result Number\"), df[\"ptm\"], label=\"PTM\", marker=\"o\", linestyle=\"--\", color=\"orange\")\n",
    "plt.title(\"iPTM and PTM Scores\")\n",
    "plt.xlabel(\"Result Number\")\n",
    "plt.ylabel(\"Score\")\n",
    "plt.legend()\n",
    "plt.grid(True)\n",
    "plt.tight_layout()\n",
    "\n",
    "# Show the plot in the Jupyter Notebook\n",
    "plt.show()\n"
   ]
  }
 ],
 "metadata": {
  "kernelspec": {
   "display_name": "env_BA",
   "language": "python",
   "name": "python3"
  },
  "language_info": {
   "codemirror_mode": {
    "name": "ipython",
    "version": 3
   },
   "file_extension": ".py",
   "mimetype": "text/x-python",
   "name": "python",
   "nbconvert_exporter": "python",
   "pygments_lexer": "ipython3",
   "version": "3.13.3"
  }
 },
 "nbformat": 4,
 "nbformat_minor": 5
}
