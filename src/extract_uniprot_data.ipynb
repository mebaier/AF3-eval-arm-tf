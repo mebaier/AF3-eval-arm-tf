{
 "cells": [
  {
   "cell_type": "code",
   "execution_count": 2,
   "id": "945803f7",
   "metadata": {},
   "outputs": [],
   "source": [
    "import pickle\n",
    "from itertools import combinations\n",
    "import pandas as pd\n",
    "import csv\n",
    "\n",
    "\n",
    "def extract_accessions_csv(csv_file_path):\n",
    "    identifiers = []\n",
    "    with open(csv_file_path, 'r') as file:\n",
    "        for line in file:\n",
    "            line = line.strip()\n",
    "            if not line:\n",
    "                continue  # Skip empty lines\n",
    "            fields = line.split(',')\n",
    "            if len(fields) >= 2:\n",
    "                versioned_id = fields[1]\n",
    "                base_id = versioned_id.split('.')[0]\n",
    "                identifiers.append(base_id)\n",
    "    return identifiers\n",
    "\n",
    "\n",
    "def extract_accessions_tsv(tsv_file, column_name):\n",
    "    \"\"\"\n",
    "    Extracts the 'Accession' column from a TSV file.\n",
    "\n",
    "    Args:\n",
    "        tsv_file (str): Path to the TSV file.\n",
    "        column_name (str): The name of the column to extract.\n",
    "\n",
    "    Returns:\n",
    "        List[str]: A list of entries from the specified column.\n",
    "    \"\"\"\n",
    "    accession_entries = []\n",
    "\n",
    "    with open(tsv_file, newline='') as file:\n",
    "        reader = csv.DictReader(file, delimiter='\\t')\n",
    "        for row in reader:\n",
    "            iso_id = row[column_name]\n",
    "            base_id = iso_id.split('-')[0] # remove isoform marker\n",
    "            accession_entries.append(base_id)\n",
    "\n",
    "    return accession_entries\n"
   ]
  },
  {
   "cell_type": "code",
   "execution_count": null,
   "id": "e8fd4d60",
   "metadata": {},
   "outputs": [],
   "source": [
    "ARM10_HUMAN_ARM_REPEAT_PSI3 = extract_accessions_csv(\"datasets_uniprot/ARM10_HUMAN_ARM_REPEAT_PSI3.csv\")\n",
    "ARM10_HUMAN_FULL_PSI10 = extract_accessions_csv(\"datasets_uniprot/ARM10_HUMAN_FULL_PSI10.csv\")\n",
    "uniprot_text_search = extract_accessions_tsv(\"datasets_uniprot/uniprot_text_search.tsv\", \"Entry\")\n",
    "blast_ARM10_HUMAN = extract_accessions_tsv(\"datasets_uniprot/blast_ARM10_HUMAN.tsv\", \"Accession\")\n",
    "uniprot_repeat_ARM = extract_accessions_tsv(\"datasets_uniprot/uniprotkb_repeat_ARM.tsv\", \"Entry\")\n",
    "\n",
    "datasets = [ARM10_HUMAN_ARM_REPEAT_PSI3, ARM10_HUMAN_FULL_PSI10, uniprot_text_search, blast_ARM10_HUMAN, uniprot_repeat_ARM]"
   ]
  },
  {
   "cell_type": "code",
   "execution_count": 16,
   "id": "977dd622",
   "metadata": {},
   "outputs": [
    {
     "name": "stdout",
     "output_type": "stream",
     "text": [
      "Unique entries in each dataset:\n",
      "ARM10_HUMAN_ARM_REPEAT_PSI3 (0 entries): set()\n",
      "ARM10_HUMAN_FULL_PSI10 (36 entries): {'P30153', 'Q15021', 'O75155', 'O95373', 'Q92616', 'P42345', 'Q5S007', 'P63010', 'Q7Z4Q2', 'Q9H3U1', 'O75031', 'Q5VYK3', 'Q96KG9', 'P30154', 'O14787', 'Q6ZUA9', 'O60518', 'Q6PJG6', 'Q14974', 'Q5UIP0', 'Q99460', 'O00410', 'Q96JX3', 'Q9NRP7', 'Q86WZ0', 'Q6AI08', 'Q6NUP7', 'Q9H892', 'Q8N122', 'Q92973', 'Q9H173', 'Q8TEX9', 'Q86VP6', 'Q08AM6', 'Q7Z460', 'Q10567'}\n",
      "uniprot_text_search (94 entries): {'H0YGQ5', 'Q5TGZ0', 'Q15388', 'A0A804HJ95', 'A0A5F9ZH09', 'Q96LK7', 'Q07666', 'A0A0A0MT17', 'H7BYZ4', 'C9J625', 'A2A2M9', 'E5RHK3', 'F5GWV0', 'A5YKK6', 'H7C5B7', 'A0A804HIT2', 'B7Z7A1', 'B5MC89', 'B3KW05', 'B4DLR0', 'A0A1D5RMU3', 'B7Z979', 'F5H4H6', 'A0A140VJU9', 'Q5H9D8', 'E9PR92', 'O15169', 'B6ZDE5', 'P61586', 'B4DFB8', 'H7BZA2', 'Q16891', 'Q13033', 'Q9NSA3', 'A0A0A0MSY0', 'C9J2I1', 'H0Y4P5', 'F5H2X2', 'Q15910', 'A0A0A0MRT8', 'P36402', 'O43815', 'A0A7P0Z468', 'Q15022', 'E5RJ86', 'Q8N7F8', 'A8K5M7', 'S4R3L5', 'Q9NWU2', 'Q9H871', 'E0ZS56', 'H3BS74', 'B3KT98', 'Q9UL63', 'H0YGL0', 'F5H7V0', 'H7C5H2', 'B7Z5P0', 'Q96NW7', 'Q9UJU2', 'Q13505', 'Q09028', 'F5H3X1', 'S4R3L0', 'A6QL60', 'F5GYY4', 'F5H052', 'Q9NRL3', 'C9JW07', 'A0A0A0MQT2', 'F8WC51', 'Q7L5Y9', 'Q9Y512', 'F5H2K4', 'Q9NQB0', 'Q9HCS4', 'F5H6J3', 'Q70AK8', 'A0A5F9ZH61', 'J3KTE5', 'A0A0G2JLJ9', 'H7C4Q1', 'A2A341', 'Q68D26', 'Q96S59', 'J3KST7', 'Q9NW14', 'H7C4J4', 'F5H3M9', 'A0A804HLH5', 'F5GZP0', 'Q8IWA1', 'F5H4P3', 'F5H3Y9'}\n",
      "blast_ARM10_HUMAN (19 entries): {'Q86VV8', 'Q8TCG1', 'O94988', 'Q14157', 'H0YK95', 'Q5VU80', 'P42685', 'Q5VU78', 'Q9UPM8', 'H0YL95', 'Q5VU79', 'H0YK94', 'Q03701', 'G3V126', 'A0A7I2V670', 'P56747', 'Q6PI77', 'J3KSV7', 'Q13651'}\n",
      "uniprot_repeat_ARM (96 entries): {'A0AAQ5BGJ9', 'A0A804HK15', 'C9JTX4', 'A0A8V8TL88', 'A0A224AV41', 'G1UI19', 'A0A804HJM1', 'E9PFT7', 'A0A0S2Z495', 'A0A7I2V3Z3', 'A0AAQ5BGI3', 'A0AAQ5BGY2', 'B8QGS9', 'A0A2R8Y815', 'Q92845', 'O60763', 'B4DWX3', 'B4DSW9', 'C9JWD9', 'B3KXF4', 'Q6LCG8', 'A0A2R8Y543', 'Q7Z726', 'Q8NAH4', 'A8K0K2', 'B7Z7E7', 'A0AAQ5BIB9', 'Q5TFJ7', 'A0AAQ5BIC2', 'B4DJU1', 'B3KXZ2', 'A0A0S2Z487', 'A0A7I2V351', 'A0A2R8Y804', 'A0A7I2V487', 'A0A2R8Y6G0', 'H0Y8M2', 'R4GMU6', 'A0A384ME03', 'B4DE59', 'C9JKY1', 'B1P762', 'A0AAQ5BIA4', 'Q6U7G8', 'A0A2R8Y7Z0', 'C9J4U1', 'B4DII5', 'Q96FS1', 'A0A7I2YQ95', 'Q9Y263', 'A8K7D9', 'B7Z2V8', 'D6RHZ7', 'A0A7I2YQE1', 'B4DRX5', 'S4R3E5', 'Q68DU0', 'A0A8V8TPU9', 'A0A2Q2SV78', 'A0A8V8TLL2', 'A0A8V8TMV2', 'D6RHH8', 'A0A804HIL4', 'Q14BN3', 'Q4W5T8', 'Q4LE70', 'H7C4F6', 'A0A2R8Y5Z1', 'A0A2R8Y750', 'B7Z4M5', 'A0A2R8Y5A3', 'A0A7I2V340', 'A0A2R8Y5C3', 'Q9NZL4', 'A0AAQ5BIB8', 'B3KWR2', 'C9JK18', 'Q5BKZ2', 'Q7Z7L7', 'E9PK71', 'A0AAQ5BIC6', 'B4DGU4', 'A0A2R8YCH5', 'B3KNU0', 'A0A8V8TQD7', 'Q53F09', 'A0AAQ5BIC3', 'B5BU28', 'B4DL06', 'Q7KZJ3', 'A0A224ANK2', 'E9PRW6', 'B4DG58', 'C9J826', 'C9JYI4', 'A0A7I2V333'}\n"
     ]
    }
   ],
   "source": [
    "# Calculate unique entries for each dataset\n",
    "unique_ARM10_HUMAN_ARM_REPEAT_PSI3 = set(ARM10_HUMAN_ARM_REPEAT_PSI3) - (\n",
    "    set(ARM10_HUMAN_FULL_PSI10) | set(uniprot_text_search) | set(blast_ARM10_HUMAN) | set(uniprot_repeat_ARM)\n",
    ")\n",
    "unique_ARM10_HUMAN_FULL_PSI10 = set(ARM10_HUMAN_FULL_PSI10) - (\n",
    "    set(ARM10_HUMAN_ARM_REPEAT_PSI3) | set(uniprot_text_search) | set(blast_ARM10_HUMAN) | set(uniprot_repeat_ARM)\n",
    ")\n",
    "unique_uniprot_text_search = set(uniprot_text_search) - (\n",
    "    set(ARM10_HUMAN_ARM_REPEAT_PSI3) | set(ARM10_HUMAN_FULL_PSI10) | set(blast_ARM10_HUMAN) | set(uniprot_repeat_ARM)\n",
    ")\n",
    "unique_blast_ARM10_HUMAN = set(blast_ARM10_HUMAN) - (\n",
    "    set(ARM10_HUMAN_ARM_REPEAT_PSI3) | set(ARM10_HUMAN_FULL_PSI10) | set(uniprot_text_search) | set(uniprot_repeat_ARM)\n",
    ")\n",
    "unique_uniprot_repeat_ARM = set(uniprot_repeat_ARM) - (\n",
    "    set(ARM10_HUMAN_ARM_REPEAT_PSI3) | set(ARM10_HUMAN_FULL_PSI10) | set(uniprot_text_search) | set(blast_ARM10_HUMAN)\n",
    ")\n",
    "\n",
    "# Print the unique entries and their counts\n",
    "print(\"Unique entries in each dataset:\")\n",
    "print(f\"ARM10_HUMAN_ARM_REPEAT_PSI3 ({len(unique_ARM10_HUMAN_ARM_REPEAT_PSI3)} entries):\", unique_ARM10_HUMAN_ARM_REPEAT_PSI3)\n",
    "print(f\"ARM10_HUMAN_FULL_PSI10 ({len(unique_ARM10_HUMAN_FULL_PSI10)} entries):\", unique_ARM10_HUMAN_FULL_PSI10)\n",
    "print(f\"uniprot_text_search ({len(unique_uniprot_text_search)} entries):\", unique_uniprot_text_search)\n",
    "print(f\"blast_ARM10_HUMAN ({len(unique_blast_ARM10_HUMAN)} entries):\", unique_blast_ARM10_HUMAN)\n",
    "print(f\"uniprot_repeat_ARM ({len(unique_uniprot_repeat_ARM)} entries):\", unique_uniprot_repeat_ARM)"
   ]
  },
  {
   "cell_type": "code",
   "execution_count": null,
   "id": "92018bf8",
   "metadata": {},
   "outputs": [
    {
     "name": "stdout",
     "output_type": "stream",
     "text": [
      "Total entries (including duplicates due to isomorphism):\n",
      "Text based search: 159\n",
      "PSI-BLAST with full ARM10: 135\n",
      "PSI BLAST with ARM repeat: 7\n",
      "blast with ARM10 full: 115\n",
      "Uniprot structure search: 174\n",
      "Common Entries: {'Q8N2F6', 'Q7L311', 'Q9UH62', 'Q9P291', 'Q5H9R4'}   5\n",
      "Total unique entries: 345\n",
      "Unique entries in each dataset:\n",
      "ARM10_HUMAN_ARM_REPEAT_PSI3: 7\n",
      "ARM10_HUMAN_FULL_PSI10: 82\n",
      "uniprot_text_search: 159\n",
      "blast_ARM10_HUMAN: 63\n",
      "Uniprot structure search: 174\n"
     ]
    }
   ],
   "source": [
    "\n",
    "# Output\n",
    "print(\"Total entries (including duplicates due to isomorphism):\")\n",
    "print(\"Text based search:\", len(uniprot_text_search))\n",
    "print(\"PSI-BLAST with full ARM10:\", len(ARM10_HUMAN_FULL_PSI10))\n",
    "print(\"PSI BLAST with ARM repeat:\", len(ARM10_HUMAN_ARM_REPEAT_PSI3))\n",
    "print(\"blast with ARM10 full:\", len(blast_ARM10_HUMAN))\n",
    "print(\"Uniprot structure search:\", len(uniprot_repeat_ARM))\n",
    "\n",
    "# Find common entries\n",
    "common_entries = set(ARM10_HUMAN_ARM_REPEAT_PSI3) & set(ARM10_HUMAN_FULL_PSI10) & set(uniprot_text_search) & set(blast_ARM10_HUMAN) & set(uniprot_repeat_ARM)\n",
    "total_entries = set(ARM10_HUMAN_ARM_REPEAT_PSI3 + ARM10_HUMAN_FULL_PSI10 + uniprot_text_search + blast_ARM10_HUMAN + uniprot_repeat_ARM)\n",
    "\n",
    "# Output common entries\n",
    "print(\"Common Entries:\", common_entries, \" \", len(common_entries))\n",
    "print(\"Total unique entries:\", len(total_entries))\n",
    "\n",
    "print(\"Unique entries in each dataset:\")\n",
    "print(\"ARM10_HUMAN_ARM_REPEAT_PSI3:\", len(set(ARM10_HUMAN_ARM_REPEAT_PSI3)))\n",
    "print(\"ARM10_HUMAN_FULL_PSI10:\", len(set(ARM10_HUMAN_FULL_PSI10)))\n",
    "print(\"uniprot_text_search:\", len(set(uniprot_text_search)))\n",
    "print(\"blast_ARM10_HUMAN:\", len(set(blast_ARM10_HUMAN)))\n",
    "print(\"Uniprot structure search:\", len(set(uniprot_repeat_ARM)))\n",
    "\n"
   ]
  },
  {
   "cell_type": "code",
   "execution_count": 10,
   "id": "125bf6b7",
   "metadata": {},
   "outputs": [
    {
     "name": "stdout",
     "output_type": "stream",
     "text": [
      "Overlap Matrix:\n"
     ]
    },
    {
     "data": {
      "text/html": [
       "<div>\n",
       "<style scoped>\n",
       "    .dataframe tbody tr th:only-of-type {\n",
       "        vertical-align: middle;\n",
       "    }\n",
       "\n",
       "    .dataframe tbody tr th {\n",
       "        vertical-align: top;\n",
       "    }\n",
       "\n",
       "    .dataframe thead th {\n",
       "        text-align: right;\n",
       "    }\n",
       "</style>\n",
       "<table border=\"1\" class=\"dataframe\">\n",
       "  <thead>\n",
       "    <tr style=\"text-align: right;\">\n",
       "      <th></th>\n",
       "      <th>ARM10_HUMAN_ARM_REPEAT_PSI3</th>\n",
       "      <th>ARM10_HUMAN_FULL_PSI10</th>\n",
       "      <th>uniprot_text_search</th>\n",
       "      <th>blast_ARM10_HUMAN</th>\n",
       "      <th>uniprot_repeat_ARM</th>\n",
       "    </tr>\n",
       "  </thead>\n",
       "  <tbody>\n",
       "    <tr>\n",
       "      <th>ARM10_HUMAN_ARM_REPEAT_PSI3</th>\n",
       "      <td>7</td>\n",
       "      <td>7</td>\n",
       "      <td>6</td>\n",
       "      <td>6</td>\n",
       "      <td>5</td>\n",
       "    </tr>\n",
       "    <tr>\n",
       "      <th>ARM10_HUMAN_FULL_PSI10</th>\n",
       "      <td>7</td>\n",
       "      <td>82</td>\n",
       "      <td>23</td>\n",
       "      <td>16</td>\n",
       "      <td>40</td>\n",
       "    </tr>\n",
       "    <tr>\n",
       "      <th>uniprot_text_search</th>\n",
       "      <td>6</td>\n",
       "      <td>23</td>\n",
       "      <td>159</td>\n",
       "      <td>26</td>\n",
       "      <td>47</td>\n",
       "    </tr>\n",
       "    <tr>\n",
       "      <th>blast_ARM10_HUMAN</th>\n",
       "      <td>6</td>\n",
       "      <td>16</td>\n",
       "      <td>26</td>\n",
       "      <td>63</td>\n",
       "      <td>24</td>\n",
       "    </tr>\n",
       "    <tr>\n",
       "      <th>uniprot_repeat_ARM</th>\n",
       "      <td>5</td>\n",
       "      <td>40</td>\n",
       "      <td>47</td>\n",
       "      <td>24</td>\n",
       "      <td>174</td>\n",
       "    </tr>\n",
       "  </tbody>\n",
       "</table>\n",
       "</div>"
      ],
      "text/plain": [
       "                            ARM10_HUMAN_ARM_REPEAT_PSI3  \\\n",
       "ARM10_HUMAN_ARM_REPEAT_PSI3                           7   \n",
       "ARM10_HUMAN_FULL_PSI10                                7   \n",
       "uniprot_text_search                                   6   \n",
       "blast_ARM10_HUMAN                                     6   \n",
       "uniprot_repeat_ARM                                    5   \n",
       "\n",
       "                            ARM10_HUMAN_FULL_PSI10 uniprot_text_search  \\\n",
       "ARM10_HUMAN_ARM_REPEAT_PSI3                      7                   6   \n",
       "ARM10_HUMAN_FULL_PSI10                          82                  23   \n",
       "uniprot_text_search                             23                 159   \n",
       "blast_ARM10_HUMAN                               16                  26   \n",
       "uniprot_repeat_ARM                              40                  47   \n",
       "\n",
       "                            blast_ARM10_HUMAN uniprot_repeat_ARM  \n",
       "ARM10_HUMAN_ARM_REPEAT_PSI3                 6                  5  \n",
       "ARM10_HUMAN_FULL_PSI10                     16                 40  \n",
       "uniprot_text_search                        26                 47  \n",
       "blast_ARM10_HUMAN                          63                 24  \n",
       "uniprot_repeat_ARM                         24                174  "
      ]
     },
     "metadata": {},
     "output_type": "display_data"
    }
   ],
   "source": [
    "# List of datasets\n",
    "datasets = {\n",
    "    \"ARM10_HUMAN_ARM_REPEAT_PSI3\": set(ARM10_HUMAN_ARM_REPEAT_PSI3),\n",
    "    \"ARM10_HUMAN_FULL_PSI10\": set(ARM10_HUMAN_FULL_PSI10),\n",
    "    \"uniprot_text_search\": set(uniprot_text_search),\n",
    "    \"blast_ARM10_HUMAN\": set(blast_ARM10_HUMAN),\n",
    "    \"uniprot_repeat_ARM\": set(uniprot_repeat_ARM)\n",
    "}\n",
    "\n",
    "# Create an empty DataFrame for the overlap matrix\n",
    "overlap_matrix = pd.DataFrame(index=datasets.keys(), columns=datasets.keys())\n",
    "\n",
    "# Calculate overlaps\n",
    "for dataset1, entries1 in datasets.items():\n",
    "    for dataset2, entries2 in datasets.items():\n",
    "        overlap_matrix.loc[dataset1, dataset2] = len(entries1 & entries2)\n",
    "\n",
    "# Print the matrix\n",
    "print(\"Overlap Matrix:\")\n",
    "# print(overlap_matrix)\n",
    "\n",
    "display(overlap_matrix)\n",
    "\n"
   ]
  },
  {
   "cell_type": "code",
   "execution_count": null,
   "id": "8d0ae548",
   "metadata": {},
   "outputs": [],
   "source": [
    "\n",
    "\n",
    "\n",
    "with open('../jobs_AF/side1_uniprot_ids.pkl', 'wb') as file:\n",
    "    pickle.dump(list(total_entries), file)\n",
    "   \n",
    "   "
   ]
  },
  {
   "cell_type": "code",
   "execution_count": 3,
   "id": "3d24ef3d",
   "metadata": {},
   "outputs": [],
   "source": [
    "   \n",
    "with open('../jobs_AF/side2_uniprot_ids.pkl', 'wb') as file:\n",
    "    pickle.dump([\"TCF7L2\"], file)"
   ]
  },
  {
   "cell_type": "code",
   "execution_count": null,
   "id": "b1974427",
   "metadata": {},
   "outputs": [],
   "source": [
    "ARM = extract_accessions_tsv(\"datasets_uniprot/uniprotkb_repeat_ARM.tsv\", \"Entry\")\n",
    "PFAM = extract_accessions_tsv(\"datasets_uniprot/uniprotkb_xref_pfam_PF00514_2025_05_02.tsv\", \"Entry\")\n",
    "INTERPRO = extract_accessions_tsv(\"datasets_uniprot/uniprotkb_xref_interpro_IPR000225_2025_05_02.tsv\", \"Entry\")\n",
    "ARM_PFAM_INTERPRO = extract_accessions_tsv(\"datasets_uniprot/uniprotkb_interpro_PFAM_ARM_2025_05_02.tsv\", \"Entry\")"
   ]
  },
  {
   "cell_type": "code",
   "execution_count": 14,
   "id": "a0bff729",
   "metadata": {},
   "outputs": [
    {
     "name": "stdout",
     "output_type": "stream",
     "text": [
      "Unique entries in each dataset:\n",
      "ARM (9 entries): {'Q6ZWH5', 'Q8N2F6', 'Q6P1M9', 'Q6SZW1', 'Q8NA31', 'Q9Y263', 'Q5T9G4', 'Q9NZL4', 'Q8WYA6'}\n",
      "PFAM (0 entries): set()\n",
      "INTERPRO (29 entries): {'A8K5M7', 'B7Z5M1', 'B2RC26', 'J3QKQ5', 'B3KT98', 'B4DR79', 'A8K0G3', 'C9J1E7', 'B7Z752', 'Q96LK7', 'A0A087WYD1', 'P63010', 'B7Z5P0', 'Q14974', 'A0A087X2F3', 'B4DWG4', 'A0A0A0MSI1', 'Q68DI0', 'A0A087WU93', 'A8K916', 'A0A087WZQ6', 'J3KTM9', 'Q96DC7', 'A0A087X253', 'B2RBR9', 'Q1MX18', 'B7Z979', 'A0A140VJE8', 'Q10567'}\n"
     ]
    }
   ],
   "source": [
    "# Calculate unique entries for each dataset\n",
    "unique_ARM = set(ARM) - (set(PFAM) | set(INTERPRO))\n",
    "unique_PFAM = set(PFAM) - (set(ARM) | set(INTERPRO))\n",
    "unique_INTERPRO = set(INTERPRO) - (set(ARM) | set(PFAM))\n",
    "\n",
    "# Print the unique entries and their counts\n",
    "print(\"Unique entries in each dataset:\")\n",
    "print(f\"ARM ({len(unique_ARM)} entries):\", unique_ARM)\n",
    "print(f\"PFAM ({len(unique_PFAM)} entries):\", unique_PFAM)\n",
    "print(f\"INTERPRO ({len(unique_INTERPRO)} entries):\", unique_INTERPRO)"
   ]
  },
  {
   "cell_type": "code",
   "execution_count": 13,
   "id": "755de9b6",
   "metadata": {},
   "outputs": [
    {
     "name": "stdout",
     "output_type": "stream",
     "text": [
      "Number of entries in each dataset:\n",
      "ARM: 174\n",
      "PFAM: 173\n",
      "INTERPRO: 221\n",
      "ARM_PFAM_INTERPRO: 230\n"
     ]
    }
   ],
   "source": [
    "# Print the number of entries in each dataset\n",
    "print(\"Number of entries in each dataset:\")\n",
    "print(\"ARM:\", len(ARM))\n",
    "print(\"PFAM:\", len(PFAM))\n",
    "print(\"INTERPRO:\", len(INTERPRO))\n",
    "print(\"ARM_PFAM_INTERPRO:\", len(ARM_PFAM_INTERPRO))"
   ]
  },
  {
   "cell_type": "code",
   "execution_count": null,
   "id": "e42d55a7",
   "metadata": {},
   "outputs": [
    {
     "name": "stdout",
     "output_type": "stream",
     "text": [
      "Overlap Matrix for Additional Datasets:\n",
      "                   ARM PFAM INTERPRO ARM_PFAM_INTERPRO\n",
      "ARM                174  146      165               174\n",
      "PFAM               146  173      173               173\n",
      "INTERPRO           165  173      221               221\n",
      "ARM_PFAM_INTERPRO  174  173      221               230\n"
     ]
    }
   ],
   "source": [
    "# List of additional datasets\n",
    "additional_datasets = {\n",
    "    \"ARM\": set(ARM),\n",
    "    \"PFAM\": set(PFAM),\n",
    "    \"INTERPRO\": set(INTERPRO),\n",
    "    \"ARM_PFAM_INTERPRO\": set(ARM_PFAM_INTERPRO)\n",
    "}\n",
    "\n",
    "# Create an empty DataFrame for the overlap matrix\n",
    "additional_overlap_matrix = pd.DataFrame(index=additional_datasets.keys(), columns=additional_datasets.keys())\n",
    "\n",
    "# Calculate overlaps\n",
    "for dataset1, entries1 in additional_datasets.items():\n",
    "    for dataset2, entries2 in additional_datasets.items():\n",
    "        additional_overlap_matrix.loc[dataset1, dataset2] = len(entries1 & entries2)\n",
    "\n",
    "# Print the matrix\n",
    "print(\"Overlap Matrix for Additional Datasets:\")\n",
    "print(additional_overlap_matrix)"
   ]
  }
 ],
 "metadata": {
  "kernelspec": {
   "display_name": "env_BA",
   "language": "python",
   "name": "python3"
  },
  "language_info": {
   "codemirror_mode": {
    "name": "ipython",
    "version": 3
   },
   "file_extension": ".py",
   "mimetype": "text/x-python",
   "name": "python",
   "nbconvert_exporter": "python",
   "pygments_lexer": "ipython3",
   "version": "3.13.3"
  }
 },
 "nbformat": 4,
 "nbformat_minor": 5
}
