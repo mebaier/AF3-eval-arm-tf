{
 "cells": [
  {
   "cell_type": "markdown",
   "id": "d6a2fadd",
   "metadata": {},
   "source": [
    "- read in a STRING txt database dump\n",
    "- add new columns: protein1, protein2, pair_id\n",
    "- remove duplicates\n",
    "- save as csv"
   ]
  },
  {
   "cell_type": "code",
   "execution_count": 14,
   "id": "a5cf93a4",
   "metadata": {},
   "outputs": [],
   "source": [
    "import os\n",
    "import pandas as pd\n",
    "\n",
    "# File paths\n",
    "STRING_DB_DUMP = \"../../data/STRING/9606.protein.links.full.v12.0.txt\"\n",
    "MAPPING_FILE = \"../../data/STRING/string_to_uniprot_mapping.txt\"\n",
    "OUTPUT_PATH = \"../../data/STRING/9606.protein.links.full.v12.0.txt_processed.csv\""
   ]
  },
  {
   "cell_type": "code",
   "execution_count": 15,
   "id": "61febb62",
   "metadata": {},
   "outputs": [],
   "source": [
    "def load_string_to_uniprot_mapping(mapping_file):\n",
    "    \"\"\"\n",
    "    Load the mapping from STRING ID to UniProt ID from the mapping file.\n",
    "    \n",
    "    Args:\n",
    "        mapping_file (str): Path to the mapping file\n",
    "        \n",
    "    Returns:\n",
    "        dict: Dictionary mapping STRING IDs to UniProt IDs\n",
    "    \"\"\"\n",
    "    string_to_uniprot = {}\n",
    "    try:\n",
    "        with open(mapping_file, 'r') as f:\n",
    "            for line in f:\n",
    "                parts = line.strip().split('\\t')\n",
    "                if len(parts) == 2:\n",
    "                    string_id, uniprot_id = parts\n",
    "                    string_to_uniprot[string_id] = uniprot_id\n",
    "        print(f\"Loaded {len(string_to_uniprot)} STRING to UniProt mappings\")\n",
    "    except FileNotFoundError:\n",
    "        print(f\"Error: Mapping file {mapping_file} not found\")\n",
    "        exit(1)\n",
    "    \n",
    "    return string_to_uniprot"
   ]
  },
  {
   "cell_type": "code",
   "execution_count": 16,
   "id": "fa555d33",
   "metadata": {},
   "outputs": [],
   "source": [
    "string_txt = pd.read_csv(STRING_DB_DUMP, sep=' ')"
   ]
  },
  {
   "cell_type": "code",
   "execution_count": 17,
   "id": "f7fc380e",
   "metadata": {},
   "outputs": [
    {
     "name": "stdout",
     "output_type": "stream",
     "text": [
      "Loaded 19110 STRING to UniProt mappings\n"
     ]
    }
   ],
   "source": [
    "string_to_uniprot = load_string_to_uniprot_mapping(MAPPING_FILE)"
   ]
  },
  {
   "cell_type": "code",
   "execution_count": 18,
   "id": "24b84590",
   "metadata": {},
   "outputs": [],
   "source": [
    "# mapd IDs\n",
    "string_txt['p1_Uniprot'] = string_txt['protein1'].apply(lambda x: string_to_uniprot.get(x, 'no_uniprot_result'))\n",
    "string_txt['p2_Uniprot'] = string_txt['protein2'].apply(lambda x: string_to_uniprot.get(x, 'no_uniprot_result'))\n",
    "string_txt['pair_id'] = string_txt.apply(lambda row: tuple(sorted([row['p1_Uniprot'], row['p2_Uniprot']])), axis=1)"
   ]
  },
  {
   "cell_type": "code",
   "execution_count": 19,
   "id": "0fe33ba0",
   "metadata": {},
   "outputs": [],
   "source": [
    "# Remove duplicates\n",
    "string_txt.set_index('pair_id', inplace=True)\n",
    "string_txt = string_txt[~string_txt.index.duplicated(keep='first')]\n",
    "\n",
    "# Reset index to move pair_id back to a column\n",
    "string_txt.reset_index(inplace=True)"
   ]
  },
  {
   "cell_type": "code",
   "execution_count": 20,
   "id": "a89b312d",
   "metadata": {},
   "outputs": [
    {
     "name": "stdout",
     "output_type": "stream",
     "text": [
      "DataFrame saved to: ../../data/STRING/9606.protein.links.full.v12.0.txt_processed.csv\n"
     ]
    }
   ],
   "source": [
    "# save to csv file\n",
    "\n",
    "# Save the DataFrame to the new file\n",
    "string_txt.to_csv(OUTPUT_PATH, sep=',', index=False)\n",
    "print(f\"DataFrame saved to: {OUTPUT_PATH}\")"
   ]
  }
 ],
 "metadata": {
  "kernelspec": {
   "display_name": "env_BA",
   "language": "python",
   "name": "python3"
  },
  "language_info": {
   "codemirror_mode": {
    "name": "ipython",
    "version": 3
   },
   "file_extension": ".py",
   "mimetype": "text/x-python",
   "name": "python",
   "nbconvert_exporter": "python",
   "pygments_lexer": "ipython3",
   "version": "3.12.3"
  }
 },
 "nbformat": 4,
 "nbformat_minor": 5
}
