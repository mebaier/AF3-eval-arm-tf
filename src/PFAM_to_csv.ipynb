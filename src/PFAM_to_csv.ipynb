{
 "cells": [
  {
   "cell_type": "markdown",
   "id": "4466b268",
   "metadata": {},
   "source": [
    "# File Parser to DataFrame Generator\n",
    "\n",
    "This notebook parses a file and creates a pandas DataFrame where each compartment starting with '//' is treated as a new row."
   ]
  },
  {
   "cell_type": "markdown",
   "id": "1f2b3cbe",
   "metadata": {},
   "source": [
    "# Import Required Libraries\n",
    "Import pandas and other necessary libraries for file parsing."
   ]
  },
  {
   "cell_type": "code",
   "execution_count": 1,
   "id": "27666c24",
   "metadata": {},
   "outputs": [],
   "source": [
    "# Import necessary libraries\n",
    "import pandas as pd\n",
    "import re\n",
    "import os"
   ]
  },
  {
   "cell_type": "markdown",
   "id": "e3ba0d17",
   "metadata": {},
   "source": [
    "# Load and Read the File\n",
    "\n",
    "Load the file and read its content line by line."
   ]
  },
  {
   "cell_type": "code",
   "execution_count": 2,
   "id": "256cfbb3",
   "metadata": {},
   "outputs": [
    {
     "name": "stdout",
     "output_type": "stream",
     "text": [
      "File loaded successfully: Pfam-A.hmm.dat\n"
     ]
    }
   ],
   "source": [
    "# Define the file path\n",
    "# Replace with your actual file path\n",
    "file_path = \"Pfam-A.hmm.dat\"\n",
    "\n",
    "# Check if file exists\n",
    "if os.path.exists(file_path):\n",
    "    # Read the content of the file\n",
    "    with open(file_path, 'r') as file:\n",
    "        content = file.read()\n",
    "    print(f\"File loaded successfully: {file_path}\")\n",
    "else:\n",
    "    print(f\"Error: File not found at {file_path}\")\n",
    "    # Sample content for demonstration if file doesn't exist\n",
    "    content = \"\"\"//\n",
    "ID   SAMPLE1\n",
    "AC   AC123456;\n",
    "DE   Sample protein 1.\n",
    "GA   C123\n",
    "TP   Type1\n",
    "ML   100\n",
    "CL   Class A\n",
    "//\n",
    "ID   SAMPLE2\n",
    "AC   AC789012;\n",
    "DE   Sample protein 2.\n",
    "GA   C456\n",
    "TP   Type2\n",
    "ML   200\n",
    "CL   Class B\n",
    "//\"\"\"\n",
    "    print(\"Using sample content for demonstration\")"
   ]
  },
  {
   "cell_type": "markdown",
   "id": "e1b86073",
   "metadata": {},
   "source": [
    "# Parse the File into Rows\n",
    "\n",
    "Split the file into compartments using '//' as the delimiter, where each compartment represents a new row."
   ]
  },
  {
   "cell_type": "code",
   "execution_count": 3,
   "id": "7d4829cd",
   "metadata": {},
   "outputs": [
    {
     "name": "stdout",
     "output_type": "stream",
     "text": [
      "Number of compartments found: 24424\n",
      "\n",
      "Example of first compartment:\n",
      "# STOCKHOLM 1.0\n",
      "#=GF ID   1-cysPrx_C\n",
      "#=GF AC   PF10417.14\n",
      "#=GF DE   C-terminal domain of 1-Cys peroxiredoxin\n",
      "#=GF GA   21.1; 21.1;\n",
      "#=GF TP   Domain\n",
      "#=GF ML   41\n"
     ]
    }
   ],
   "source": [
    "# Split the content by '//' to get compartments\n",
    "compartments = content.split('//')\n",
    "\n",
    "# Remove empty compartments and strip whitespace\n",
    "compartments = [comp.strip() for comp in compartments if comp.strip()]\n",
    "\n",
    "print(f\"Number of compartments found: {len(compartments)}\")\n",
    "\n",
    "# Display the first compartment as an example\n",
    "if compartments:\n",
    "    print(\"\\nExample of first compartment:\")\n",
    "    print(compartments[0])"
   ]
  },
  {
   "cell_type": "markdown",
   "id": "d3a44a13",
   "metadata": {},
   "source": [
    "# Extract Data for Columns\n",
    "\n",
    "Extract the values for the columns (ID, AC, DE, GA, TP, ML, CL) from each compartment."
   ]
  },
  {
   "cell_type": "code",
   "execution_count": 4,
   "id": "4b9afeda",
   "metadata": {},
   "outputs": [
    {
     "name": "stdout",
     "output_type": "stream",
     "text": [
      "\n",
      "Extracted data from first compartment:\n",
      "{}\n"
     ]
    }
   ],
   "source": [
    "# Define the columns we want to extract\n",
    "columns = ['ID', 'AC', 'DE', 'GA', 'TP', 'ML', 'CL']\n",
    "\n",
    "# Function to extract data from a compartment\n",
    "def extract_data(compartment):\n",
    "    data = {}\n",
    "    \n",
    "    # Parse each line in the compartment\n",
    "    for line in compartment.split('\\n'):\n",
    "        if line.strip():\n",
    "            # Extract the field code (first 2 characters) and the value\n",
    "            field_code = line[0:2].strip()\n",
    "            value = line[5:].strip() if len(line) > 5 else \"\"\n",
    "            \n",
    "            # Store in data dictionary if it's one of our columns\n",
    "            if field_code in columns:\n",
    "                # Remove trailing semicolons if present\n",
    "                value = value.rstrip(';')\n",
    "                data[field_code] = value\n",
    "    \n",
    "    return data\n",
    "\n",
    "# Extract data from all compartments\n",
    "extracted_data = []\n",
    "for compartment in compartments:\n",
    "    data = extract_data(compartment)\n",
    "    extracted_data.append(data)\n",
    "\n",
    "# Display the extracted data for the first compartment\n",
    "if extracted_data:\n",
    "    print(\"\\nExtracted data from first compartment:\")\n",
    "    print(extracted_data[0])"
   ]
  },
  {
   "cell_type": "markdown",
   "id": "35e17a1e",
   "metadata": {},
   "source": [
    "# Create the DataFrame\n",
    "\n",
    "Use pandas to create a DataFrame with the extracted data and assign the specified column names."
   ]
  },
  {
   "cell_type": "code",
   "execution_count": 5,
   "id": "7fa4262d",
   "metadata": {},
   "outputs": [
    {
     "name": "stdout",
     "output_type": "stream",
     "text": [
      "DataFrame created with the following data:\n"
     ]
    },
    {
     "data": {
      "text/html": [
       "<div>\n",
       "<style scoped>\n",
       "    .dataframe tbody tr th:only-of-type {\n",
       "        vertical-align: middle;\n",
       "    }\n",
       "\n",
       "    .dataframe tbody tr th {\n",
       "        vertical-align: top;\n",
       "    }\n",
       "\n",
       "    .dataframe thead th {\n",
       "        text-align: right;\n",
       "    }\n",
       "</style>\n",
       "<table border=\"1\" class=\"dataframe\">\n",
       "  <thead>\n",
       "    <tr style=\"text-align: right;\">\n",
       "      <th></th>\n",
       "    </tr>\n",
       "  </thead>\n",
       "  <tbody>\n",
       "    <tr>\n",
       "      <th>0</th>\n",
       "    </tr>\n",
       "    <tr>\n",
       "      <th>1</th>\n",
       "    </tr>\n",
       "    <tr>\n",
       "      <th>2</th>\n",
       "    </tr>\n",
       "    <tr>\n",
       "      <th>3</th>\n",
       "    </tr>\n",
       "    <tr>\n",
       "      <th>4</th>\n",
       "    </tr>\n",
       "    <tr>\n",
       "      <th>...</th>\n",
       "    </tr>\n",
       "    <tr>\n",
       "      <th>24419</th>\n",
       "    </tr>\n",
       "    <tr>\n",
       "      <th>24420</th>\n",
       "    </tr>\n",
       "    <tr>\n",
       "      <th>24421</th>\n",
       "    </tr>\n",
       "    <tr>\n",
       "      <th>24422</th>\n",
       "    </tr>\n",
       "    <tr>\n",
       "      <th>24423</th>\n",
       "    </tr>\n",
       "  </tbody>\n",
       "</table>\n",
       "<p>24424 rows × 0 columns</p>\n",
       "</div>"
      ],
      "text/plain": [
       "Empty DataFrame\n",
       "Columns: []\n",
       "Index: [0, 1, 2, 3, 4, 5, 6, 7, 8, 9, 10, 11, 12, 13, 14, 15, 16, 17, 18, 19, 20, 21, 22, 23, 24, 25, 26, 27, 28, 29, 30, 31, 32, 33, 34, 35, 36, 37, 38, 39, 40, 41, 42, 43, 44, 45, 46, 47, 48, 49, 50, 51, 52, 53, 54, 55, 56, 57, 58, 59, 60, 61, 62, 63, 64, 65, 66, 67, 68, 69, 70, 71, 72, 73, 74, 75, 76, 77, 78, 79, 80, 81, 82, 83, 84, 85, 86, 87, 88, 89, 90, 91, 92, 93, 94, 95, 96, 97, 98, 99, ...]\n",
       "\n",
       "[24424 rows x 0 columns]"
      ]
     },
     "metadata": {},
     "output_type": "display_data"
    },
    {
     "name": "stdout",
     "output_type": "stream",
     "text": [
      "\n",
      "DataFrame shape: (24424, 0)\n",
      "\n",
      "DataFrame columns:\n"
     ]
    }
   ],
   "source": [
    "# Create DataFrame from extracted data\n",
    "df = pd.DataFrame(extracted_data)\n",
    "\n",
    "# Display the DataFrame\n",
    "print(\"DataFrame created with the following data:\")\n",
    "display(df)\n",
    "\n",
    "# Basic DataFrame info\n",
    "print(f\"\\nDataFrame shape: {df.shape}\")\n",
    "print(\"\\nDataFrame columns:\")\n",
    "for col in df.columns:\n",
    "    print(f\" - {col}\")\n",
    "\n",
    "# Save DataFrame to CSV (optional)\n",
    "# df.to_csv('parsed_data.csv', index=False)\n",
    "# print(\"\\nDataFrame saved to 'parsed_data.csv'\")"
   ]
  },
  {
   "cell_type": "markdown",
   "id": "1be4de2a",
   "metadata": {},
   "source": [
    "## Summary\n",
    "\n",
    "This notebook has:\n",
    "1. Imported necessary libraries\n",
    "2. Loaded and read a file\n",
    "3. Parsed the file into compartments using '//' as delimiter\n",
    "4. Extracted data for specific columns from each compartment\n",
    "5. Created a pandas DataFrame with the extracted data\n",
    "\n",
    "You can now use this DataFrame for further analysis or visualization."
   ]
  },
  {
   "cell_type": "markdown",
   "id": "fd91f935",
   "metadata": {},
   "source": [
    "# Parse Pfam-A.hmm.dat File into a Pandas DataFrame\n",
    "\n",
    "This notebook parses the Pfam-A.hmm.dat file and creates a pandas DataFrame where each record (separated by '//') is represented as a row with columns for ID, AC, DE, GA, TP, ML, and CL."
   ]
  },
  {
   "cell_type": "code",
   "execution_count": 6,
   "id": "f9904ab8",
   "metadata": {},
   "outputs": [],
   "source": [
    "import pandas as pd\n",
    "import re"
   ]
  },
  {
   "cell_type": "code",
   "execution_count": 7,
   "id": "86669c6b",
   "metadata": {},
   "outputs": [],
   "source": [
    "# File path\n",
    "file_path = '/home/markus/MPI_local/Pfam-A.hmm.dat'"
   ]
  },
  {
   "cell_type": "code",
   "execution_count": 8,
   "id": "f050ab6f",
   "metadata": {},
   "outputs": [],
   "source": [
    "def parse_pfam_file(file_path):\n",
    "    # Initialize lists to store record data\n",
    "    ids = []\n",
    "    acs = []\n",
    "    des = []\n",
    "    gas = []\n",
    "    tps = []\n",
    "    mls = []\n",
    "    cls = []\n",
    "    \n",
    "    current_record = {}\n",
    "    \n",
    "    with open(file_path, 'r') as file:\n",
    "        content = file.read()\n",
    "    \n",
    "    # Split content into records (separated by //)\n",
    "    records = content.split('//\\n')\n",
    "    \n",
    "    # Process each record\n",
    "    for record in records:\n",
    "        if not record.strip():\n",
    "            continue\n",
    "        \n",
    "        # Extract fields from the record\n",
    "        id_match = re.search(r'#=GF ID\\s+(.*?)\\s*$', record, re.MULTILINE)\n",
    "        ac_match = re.search(r'#=GF AC\\s+(.*?)\\s*$', record, re.MULTILINE)\n",
    "        de_match = re.search(r'#=GF DE\\s+(.*?)\\s*$', record, re.MULTILINE)\n",
    "        ga_match = re.search(r'#=GF GA\\s+(.*?)\\s*$', record, re.MULTILINE)\n",
    "        tp_match = re.search(r'#=GF TP\\s+(.*?)\\s*$', record, re.MULTILINE)\n",
    "        ml_match = re.search(r'#=GF ML\\s+(.*?)\\s*$', record, re.MULTILINE)\n",
    "        cl_match = re.search(r'#=GF CL\\s+(.*?)\\s*$', record, re.MULTILINE)\n",
    "        \n",
    "        # Add extracted values to lists, using None if not found\n",
    "        ids.append(id_match.group(1) if id_match else None)\n",
    "        acs.append(ac_match.group(1) if ac_match else None)\n",
    "        des.append(de_match.group(1) if de_match else None)\n",
    "        gas.append(ga_match.group(1) if ga_match else None)\n",
    "        tps.append(tp_match.group(1) if tp_match else None)\n",
    "        mls.append(ml_match.group(1) if ml_match else None)\n",
    "        cls.append(cl_match.group(1) if cl_match else None)\n",
    "    \n",
    "    # Create DataFrame from the extracted data\n",
    "    df = pd.DataFrame({\n",
    "        'ID': ids,\n",
    "        'AC': acs,\n",
    "        'DE': des,\n",
    "        'GA': gas,\n",
    "        'TP': tps,\n",
    "        'ML': mls,\n",
    "        'CL': cls\n",
    "    })\n",
    "    \n",
    "    return df"
   ]
  },
  {
   "cell_type": "code",
   "execution_count": 9,
   "id": "b4c4c721",
   "metadata": {},
   "outputs": [
    {
     "data": {
      "text/html": [
       "<div>\n",
       "<style scoped>\n",
       "    .dataframe tbody tr th:only-of-type {\n",
       "        vertical-align: middle;\n",
       "    }\n",
       "\n",
       "    .dataframe tbody tr th {\n",
       "        vertical-align: top;\n",
       "    }\n",
       "\n",
       "    .dataframe thead th {\n",
       "        text-align: right;\n",
       "    }\n",
       "</style>\n",
       "<table border=\"1\" class=\"dataframe\">\n",
       "  <thead>\n",
       "    <tr style=\"text-align: right;\">\n",
       "      <th></th>\n",
       "      <th>ID</th>\n",
       "      <th>AC</th>\n",
       "      <th>DE</th>\n",
       "      <th>GA</th>\n",
       "      <th>TP</th>\n",
       "      <th>ML</th>\n",
       "      <th>CL</th>\n",
       "    </tr>\n",
       "  </thead>\n",
       "  <tbody>\n",
       "    <tr>\n",
       "      <th>0</th>\n",
       "      <td>1-cysPrx_C</td>\n",
       "      <td>PF10417.14</td>\n",
       "      <td>C-terminal domain of 1-Cys peroxiredoxin</td>\n",
       "      <td>21.1; 21.1;</td>\n",
       "      <td>Domain</td>\n",
       "      <td>41</td>\n",
       "      <td>None</td>\n",
       "    </tr>\n",
       "    <tr>\n",
       "      <th>1</th>\n",
       "      <td>10_blade</td>\n",
       "      <td>PF21734.3</td>\n",
       "      <td>10-bladed beta propeller domain</td>\n",
       "      <td>27; 27;</td>\n",
       "      <td>Repeat</td>\n",
       "      <td>345</td>\n",
       "      <td>CL0186</td>\n",
       "    </tr>\n",
       "    <tr>\n",
       "      <th>2</th>\n",
       "      <td>117-like_vir</td>\n",
       "      <td>PF21578.3</td>\n",
       "      <td>Virus, 117-like</td>\n",
       "      <td>27; 27;</td>\n",
       "      <td>Family</td>\n",
       "      <td>101</td>\n",
       "      <td>CL0070</td>\n",
       "    </tr>\n",
       "    <tr>\n",
       "      <th>3</th>\n",
       "      <td>120_Rick_ant</td>\n",
       "      <td>PF12574.13</td>\n",
       "      <td>120 KDa Rickettsia surface antigen</td>\n",
       "      <td>25; 25;</td>\n",
       "      <td>Family</td>\n",
       "      <td>240</td>\n",
       "      <td>None</td>\n",
       "    </tr>\n",
       "    <tr>\n",
       "      <th>4</th>\n",
       "      <td>12TM_1</td>\n",
       "      <td>PF09847.15</td>\n",
       "      <td>Membrane protein of 12 TMs</td>\n",
       "      <td>33.2; 33.2;</td>\n",
       "      <td>Family</td>\n",
       "      <td>448</td>\n",
       "      <td>CL0181</td>\n",
       "    </tr>\n",
       "  </tbody>\n",
       "</table>\n",
       "</div>"
      ],
      "text/plain": [
       "             ID          AC                                        DE  \\\n",
       "0    1-cysPrx_C  PF10417.14  C-terminal domain of 1-Cys peroxiredoxin   \n",
       "1      10_blade   PF21734.3           10-bladed beta propeller domain   \n",
       "2  117-like_vir   PF21578.3                           Virus, 117-like   \n",
       "3  120_Rick_ant  PF12574.13        120 KDa Rickettsia surface antigen   \n",
       "4        12TM_1  PF09847.15                Membrane protein of 12 TMs   \n",
       "\n",
       "            GA      TP   ML      CL  \n",
       "0  21.1; 21.1;  Domain   41    None  \n",
       "1      27; 27;  Repeat  345  CL0186  \n",
       "2      27; 27;  Family  101  CL0070  \n",
       "3      25; 25;  Family  240    None  \n",
       "4  33.2; 33.2;  Family  448  CL0181  "
      ]
     },
     "execution_count": 9,
     "metadata": {},
     "output_type": "execute_result"
    }
   ],
   "source": [
    "# Parse the file and create the DataFrame\n",
    "pfam_df = parse_pfam_file(file_path)\n",
    "\n",
    "# Display the first few rows of the DataFrame\n",
    "pfam_df.head()"
   ]
  },
  {
   "cell_type": "code",
   "execution_count": 10,
   "id": "f6b35551",
   "metadata": {},
   "outputs": [
    {
     "name": "stdout",
     "output_type": "stream",
     "text": [
      "Total number of records: 24424\n",
      "<class 'pandas.core.frame.DataFrame'>\n",
      "RangeIndex: 24424 entries, 0 to 24423\n",
      "Data columns (total 7 columns):\n",
      " #   Column  Non-Null Count  Dtype \n",
      "---  ------  --------------  ----- \n",
      " 0   ID      24424 non-null  object\n",
      " 1   AC      24424 non-null  object\n",
      " 2   DE      24424 non-null  object\n",
      " 3   GA      24424 non-null  object\n",
      " 4   TP      24424 non-null  object\n",
      " 5   ML      24424 non-null  object\n",
      " 6   CL      11425 non-null  object\n",
      "dtypes: object(7)\n",
      "memory usage: 1.3+ MB\n"
     ]
    }
   ],
   "source": [
    "# Get info about the DataFrame\n",
    "print(f\"Total number of records: {len(pfam_df)}\")\n",
    "pfam_df.info()"
   ]
  },
  {
   "cell_type": "code",
   "execution_count": 11,
   "id": "1f9bb21a",
   "metadata": {},
   "outputs": [
    {
     "data": {
      "text/plain": [
       "ID        0\n",
       "AC        0\n",
       "DE        0\n",
       "GA        0\n",
       "TP        0\n",
       "ML        0\n",
       "CL    12999\n",
       "dtype: int64"
      ]
     },
     "execution_count": 11,
     "metadata": {},
     "output_type": "execute_result"
    }
   ],
   "source": [
    "# Check for any missing values\n",
    "pfam_df.isnull().sum()"
   ]
  },
  {
   "cell_type": "code",
   "execution_count": 12,
   "id": "b8424b3f",
   "metadata": {},
   "outputs": [],
   "source": [
    "# Optional: Save the DataFrame to a CSV file\n",
    "pfam_df.to_csv('/home/markus/MPI_local/pfam_parsed_data.csv', index=False)"
   ]
  }
 ],
 "metadata": {
  "kernelspec": {
   "display_name": "env_BA",
   "language": "python",
   "name": "python3"
  },
  "language_info": {
   "codemirror_mode": {
    "name": "ipython",
    "version": 3
   },
   "file_extension": ".py",
   "mimetype": "text/x-python",
   "name": "python",
   "nbconvert_exporter": "python",
   "pygments_lexer": "ipython3",
   "version": "3.12.3"
  }
 },
 "nbformat": 4,
 "nbformat_minor": 5
}
