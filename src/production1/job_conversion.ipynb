{
 "cells": [
  {
   "cell_type": "markdown",
   "id": "4459aea1",
   "metadata": {},
   "source": [
    "# AlphaFold Job Dialect Converter\n",
    "\n",
    "This notebook converts AlphaFold jobs from alphafoldserver dialect to alphafold3 dialect. It reads jobs from an input directory, converts them using the `rewrite_af_job` function, and saves the converted jobs to an output directory."
   ]
  },
  {
   "cell_type": "markdown",
   "id": "597d7a15",
   "metadata": {},
   "source": [
    "## 1. Import Required Libraries\n",
    "\n",
    "Import the necessary libraries including os, json, and the custom functions from functions_job_creation.py module."
   ]
  },
  {
   "cell_type": "code",
   "execution_count": 1,
   "id": "a8eeb7f4",
   "metadata": {},
   "outputs": [
    {
     "name": "stdout",
     "output_type": "stream",
     "text": [
      "Libraries imported successfully!\n"
     ]
    }
   ],
   "source": [
    "import sys\n",
    "import os\n",
    "import json\n",
    "from typing import List, Dict, Any\n",
    "\n",
    "# Add the path to the functions_job_creation module\n",
    "sys.path.append('/home/markus/MPI_local/src/production1/')\n",
    "\n",
    "# Import custom functions for AlphaFold job processing\n",
    "from functions_job_creation import (\n",
    "    collect_created_jobs,\n",
    "    rewrite_af_job,\n",
    "    write_af_jobs_to_individual_files\n",
    ")\n",
    "\n",
    "print(\"Libraries imported successfully!\")"
   ]
  },
  {
   "cell_type": "markdown",
   "id": "48fedacb",
   "metadata": {},
   "source": [
    "## 2. Set Input and Output Directory Paths\n",
    "\n",
    "Define the input directory containing alphafoldserver dialect jobs and the output directory for alphafold3 dialect jobs."
   ]
  },
  {
   "cell_type": "code",
   "execution_count": 2,
   "id": "9cf21fd3",
   "metadata": {},
   "outputs": [
    {
     "name": "stdout",
     "output_type": "stream",
     "text": [
      "Input directory: /home/markus/MPI_local/production1/AF_job_batches/batch_43\n",
      "Output directory: /home/markus/MPI_local/production1/AF_job_batches/batch_43_new\n",
      "Input directory exists with 100 JSON files.\n"
     ]
    }
   ],
   "source": [
    "# Define input and output directories\n",
    "input_dir = \"/home/markus/MPI_local/production1/AF_job_batches/batch_43\"  # Directory with alphafoldserver dialect jobs\n",
    "output_dir = \"/home/markus/MPI_local/production1/AF_job_batches/batch_43_new\"      # Directory for converted alphafold3 dialect jobs\n",
    "\n",
    "print(f\"Input directory: {input_dir}\")\n",
    "print(f\"Output directory: {output_dir}\")\n",
    "\n",
    "# Check if input directory exists\n",
    "if not os.path.exists(input_dir):\n",
    "    print(f\"WARNING: Input directory '{input_dir}' does not exist!\")\n",
    "    print(\"Please update the input_dir variable with the correct path.\")\n",
    "else:\n",
    "    print(f\"Input directory exists with {len([f for f in os.listdir(input_dir) if f.endswith('.json')])} JSON files.\")"
   ]
  },
  {
   "cell_type": "markdown",
   "id": "a5977475",
   "metadata": {},
   "source": [
    "## 3. Read AlphaFold Jobs from Input Directory\n",
    "\n",
    "Use the `collect_created_jobs` function to read all .json files from the input directory and load the AlphaFold jobs."
   ]
  },
  {
   "cell_type": "code",
   "execution_count": 3,
   "id": "c90a5632",
   "metadata": {},
   "outputs": [
    {
     "name": "stdout",
     "output_type": "stream",
     "text": [
      "Successfully loaded 100 jobs from /home/markus/MPI_local/production1/AF_job_batches/batch_43\n",
      "\n",
      "Sample job structure (first job):\n",
      "Job name: O14980_1-1071_O15119_1-743\n",
      "Dialect: alphafoldserver\n",
      "Number of sequences: 2\n",
      "First sequence length: 1071\n"
     ]
    }
   ],
   "source": [
    "# Read all AlphaFold jobs from the input directory\n",
    "try:\n",
    "    alphafoldserver_jobs = collect_created_jobs(input_dir)\n",
    "    print(f\"Successfully loaded {len(alphafoldserver_jobs)} jobs from {input_dir}\")\n",
    "    \n",
    "    # Display sample job structure if jobs exist\n",
    "    if alphafoldserver_jobs:\n",
    "        print(\"\\nSample job structure (first job):\")\n",
    "        print(f\"Job name: {alphafoldserver_jobs[0]['name']}\")\n",
    "        print(f\"Dialect: {alphafoldserver_jobs[0]['dialect']}\")\n",
    "        print(f\"Number of sequences: {len(alphafoldserver_jobs[0]['sequences'])}\")\n",
    "        \n",
    "        # Show first sequence info\n",
    "        first_seq = alphafoldserver_jobs[0]['sequences'][0]['proteinChain']\n",
    "        print(f\"First sequence length: {len(first_seq['sequence'])}\")\n",
    "    else:\n",
    "        print(\"No jobs found in the input directory.\")\n",
    "        \n",
    "except Exception as e:\n",
    "    print(f\"Error reading jobs from input directory: {e}\")\n",
    "    alphafoldserver_jobs = []"
   ]
  },
  {
   "cell_type": "markdown",
   "id": "cadcbc3e",
   "metadata": {},
   "source": [
    "## 4. Convert Jobs from alphafoldserver to alphafold3 Dialect\n",
    "\n",
    "Iterate through each job and use the `rewrite_af_job` function to convert from alphafoldserver dialect to alphafold3 dialect."
   ]
  },
  {
   "cell_type": "code",
   "execution_count": 4,
   "id": "f53de5b5",
   "metadata": {},
   "outputs": [
    {
     "name": "stdout",
     "output_type": "stream",
     "text": [
      "Converting jobs from alphafoldserver to alphafold3 dialect...\n",
      "Converted 10/100 jobs...\n",
      "Converted 20/100 jobs...\n",
      "Converted 30/100 jobs...\n",
      "Converted 40/100 jobs...\n",
      "Converted 50/100 jobs...\n",
      "Converted 60/100 jobs...\n",
      "Converted 70/100 jobs...\n",
      "Converted 80/100 jobs...\n",
      "Converted 90/100 jobs...\n",
      "Converted 100/100 jobs...\n",
      "\n",
      "Conversion completed!\n",
      "Successfully converted: 100 jobs\n",
      "Conversion errors: 0 jobs\n"
     ]
    }
   ],
   "source": [
    "# Convert jobs from alphafoldserver to alphafold3 dialect\n",
    "alphafold3_jobs = []\n",
    "conversion_errors = []\n",
    "\n",
    "if alphafoldserver_jobs:\n",
    "    print(\"Converting jobs from alphafoldserver to alphafold3 dialect...\")\n",
    "    \n",
    "    for i, job in enumerate(alphafoldserver_jobs):\n",
    "        try:\n",
    "            # Convert the job using the rewrite_af_job function\n",
    "            converted_job = rewrite_af_job(job)\n",
    "            alphafold3_jobs.append(converted_job)\n",
    "            \n",
    "            # Print progress every 10 jobs\n",
    "            if (i + 1) % 10 == 0:\n",
    "                print(f\"Converted {i + 1}/{len(alphafoldserver_jobs)} jobs...\")\n",
    "                \n",
    "        except Exception as e:\n",
    "            error_msg = f\"Error converting job '{job.get('name', 'unknown')}': {e}\"\n",
    "            print(error_msg)\n",
    "            conversion_errors.append(error_msg)\n",
    "    \n",
    "    print(f\"\\nConversion completed!\")\n",
    "    print(f\"Successfully converted: {len(alphafold3_jobs)} jobs\")\n",
    "    print(f\"Conversion errors: {len(conversion_errors)} jobs\")\n",
    "    \n",
    "    if conversion_errors:\n",
    "        print(\"\\nConversion errors:\")\n",
    "        for error in conversion_errors:\n",
    "            print(f\"  - {error}\")\n",
    "else:\n",
    "    print(\"No jobs to convert.\")"
   ]
  },
  {
   "cell_type": "markdown",
   "id": "f4999103",
   "metadata": {},
   "source": [
    "## 5. Write Converted Jobs to Output Directory\n",
    "\n",
    "Use the `write_af_jobs_to_individual_files` function to save the converted jobs as individual JSON files in the output directory."
   ]
  },
  {
   "cell_type": "code",
   "execution_count": 5,
   "id": "95ce47d5",
   "metadata": {},
   "outputs": [
    {
     "name": "stdout",
     "output_type": "stream",
     "text": [
      "Writing 100 converted jobs to /home/markus/MPI_local/production1/AF_job_batches/batch_43_new...\n",
      "Successfully wrote all converted jobs to output directory!\n",
      "Created 100 JSON files in /home/markus/MPI_local/production1/AF_job_batches/batch_43_new\n"
     ]
    }
   ],
   "source": [
    "# Write converted jobs to output directory\n",
    "if alphafold3_jobs:\n",
    "    try:\n",
    "        print(f\"Writing {len(alphafold3_jobs)} converted jobs to {output_dir}...\")\n",
    "        \n",
    "        # Use the write_af_jobs_to_individual_files function to save jobs\n",
    "        write_af_jobs_to_individual_files(alphafold3_jobs, output_dir)\n",
    "        \n",
    "        print(\"Successfully wrote all converted jobs to output directory!\")\n",
    "        \n",
    "        # Verify files were created\n",
    "        if os.path.exists(output_dir):\n",
    "            output_files = [f for f in os.listdir(output_dir) if f.endswith('.json')]\n",
    "            print(f\"Created {len(output_files)} JSON files in {output_dir}\")\n",
    "        \n",
    "    except Exception as e:\n",
    "        print(f\"Error writing jobs to output directory: {e}\")\n",
    "        print(\"This might happen if the output directory already exists.\")\n",
    "        print(\"Please either delete the existing directory or choose a different output path.\")\n",
    "else:\n",
    "    print(\"No converted jobs to write.\")"
   ]
  },
  {
   "cell_type": "markdown",
   "id": "5698d1ec",
   "metadata": {},
   "source": [
    "## 6. Verify Conversion Results\n",
    "\n",
    "Display summary statistics showing the number of jobs converted and sample the converted job structure to verify the dialect conversion was successful."
   ]
  },
  {
   "cell_type": "code",
   "execution_count": 6,
   "id": "80afaff0",
   "metadata": {},
   "outputs": [
    {
     "name": "stdout",
     "output_type": "stream",
     "text": [
      "=== CONVERSION SUMMARY ===\n",
      "Original jobs (alphafoldserver): 100\n",
      "Converted jobs (alphafold3): 100\n",
      "Conversion errors: 0\n",
      "Success rate: 100.0%\n",
      "\n",
      "=== SAMPLE CONVERTED JOB STRUCTURE ===\n",
      "Job name: O14980_1-1071_O15119_1-743\n",
      "Dialect: alphafold3\n",
      "Version: 1\n",
      "Number of sequences: 2\n",
      "\n",
      "Sequence structure comparison:\n",
      "BEFORE (alphafoldserver):\n",
      "  - Key: 'proteinChain'\n",
      "  - Fields: ['sequence', 'count']\n",
      "AFTER (alphafold3):\n",
      "  - Key: 'protein'\n",
      "  - Fields: ['id', 'sequence', 'modifications']\n",
      "\n",
      "First sequence length: 1071\n",
      "Second sequence length: 743\n",
      "\n",
      "=== CONVERSION COMPLETE ===\n",
      "✅ Successfully converted 100 jobs to alphafold3 dialect\n",
      "✅ Output files saved to: /home/markus/MPI_local/production1/AF_job_batches/batch_43_new\n"
     ]
    }
   ],
   "source": [
    "# Verify conversion results\n",
    "print(\"=== CONVERSION SUMMARY ===\")\n",
    "print(f\"Original jobs (alphafoldserver): {len(alphafoldserver_jobs)}\")\n",
    "print(f\"Converted jobs (alphafold3): {len(alphafold3_jobs)}\")\n",
    "print(f\"Conversion errors: {len(conversion_errors)}\")\n",
    "print(f\"Success rate: {len(alphafold3_jobs)/len(alphafoldserver_jobs)*100:.1f}%\" if alphafoldserver_jobs else \"N/A\")\n",
    "\n",
    "# Display sample converted job structure\n",
    "if alphafold3_jobs:\n",
    "    print(\"\\n=== SAMPLE CONVERTED JOB STRUCTURE ===\")\n",
    "    sample_job = alphafold3_jobs[0]\n",
    "    print(f\"Job name: {sample_job['name']}\")\n",
    "    print(f\"Dialect: {sample_job['dialect']}\")\n",
    "    print(f\"Version: {sample_job['version']}\")\n",
    "    print(f\"Number of sequences: {len(sample_job['sequences'])}\")\n",
    "    \n",
    "    print(\"\\nSequence structure comparison:\")\n",
    "    print(\"BEFORE (alphafoldserver):\")\n",
    "    if alphafoldserver_jobs:\n",
    "        orig_seq = alphafoldserver_jobs[0]['sequences'][0]\n",
    "        print(f\"  - Key: 'proteinChain'\")\n",
    "        print(f\"  - Fields: {list(orig_seq['proteinChain'].keys())}\")\n",
    "    \n",
    "    print(\"AFTER (alphafold3):\")\n",
    "    conv_seq = sample_job['sequences'][0]\n",
    "    print(f\"  - Key: 'protein'\")\n",
    "    print(f\"  - Fields: {list(conv_seq['protein'].keys())}\")\n",
    "    \n",
    "    print(f\"\\nFirst sequence length: {len(sample_job['sequences'][0]['protein']['sequence'])}\")\n",
    "    print(f\"Second sequence length: {len(sample_job['sequences'][1]['protein']['sequence'])}\")\n",
    "\n",
    "print(\"\\n=== CONVERSION COMPLETE ===\")\n",
    "if alphafold3_jobs and os.path.exists(output_dir):\n",
    "    print(f\"✅ Successfully converted {len(alphafold3_jobs)} jobs to alphafold3 dialect\")\n",
    "    print(f\"✅ Output files saved to: {output_dir}\")\n",
    "else:\n",
    "    print(\"❌ Conversion failed or no jobs to convert\")"
   ]
  }
 ],
 "metadata": {
  "kernelspec": {
   "display_name": "env_BA",
   "language": "python",
   "name": "python3"
  },
  "language_info": {
   "codemirror_mode": {
    "name": "ipython",
    "version": 3
   },
   "file_extension": ".py",
   "mimetype": "text/x-python",
   "name": "python",
   "nbconvert_exporter": "python",
   "pygments_lexer": "ipython3",
   "version": "3.12.3"
  }
 },
 "nbformat": 4,
 "nbformat_minor": 5
}
