{
 "cells": [
  {
   "cell_type": "code",
   "execution_count": 1,
   "id": "36ccb636",
   "metadata": {},
   "outputs": [],
   "source": [
    "# submit new jobs to alphafold\n",
    "\n",
    "BATCH_SIZE = 274\n"
   ]
  },
  {
   "cell_type": "code",
   "execution_count": 3,
   "id": "b980f567",
   "metadata": {},
   "outputs": [],
   "source": [
    "\n",
    "# from submitted jobs collect BATCH_SIZE new jobs that are not in complete and not in list of running jobs\n",
    "import os\n",
    "import json\n",
    "import csv\n",
    "import glob\n",
    "import shutil\n",
    "import datetime\n"
   ]
  },
  {
   "cell_type": "code",
   "execution_count": 4,
   "id": "4495492d",
   "metadata": {},
   "outputs": [
    {
     "name": "stdout",
     "output_type": "stream",
     "text": [
      "Collected 274 new jobs for the batch.\n",
      "Created new batch folder: batch_1\n",
      "Copied 274 jobs to the batch folder.\n"
     ]
    }
   ],
   "source": [
    "\n",
    "# Define paths\n",
    "SUBMITTED_FOLDER = 'submitted'\n",
    "COMPLETED_FOLDER = 'completed'\n",
    "\n",
    "\n",
    "\n",
    "# Load running jobs from all batch folders\n",
    "running_jobs = set()\n",
    "batch_folders = glob.glob('batch_*')\n",
    "batch_folders = [folder for folder in batch_folders if os.path.isdir(folder)]\n",
    "for batch_folder in batch_folders:\n",
    "    for job_file in os.listdir(batch_folder):\n",
    "        if job_file.endswith('.json'):\n",
    "            running_jobs.add(job_file)\n",
    "\n",
    "# Read all .json files in the folder 'completed' and add the name without .json to the list of completed jobs\n",
    "completed_jobs = set()\n",
    "\n",
    "if os.path.exists(COMPLETED_FOLDER):\n",
    "    for filename in os.listdir(COMPLETED_FOLDER):\n",
    "        if filename.endswith('.json'):\n",
    "            completed_jobs.add(os.path.splitext(filename)[0])\n",
    "\n",
    "# Collect new jobs\n",
    "batch_list = []\n",
    "for filename in os.listdir(SUBMITTED_FOLDER):\n",
    "    if len(batch_list) >= BATCH_SIZE:\n",
    "        break\n",
    "    if filename.endswith('.json') and filename not in running_jobs and filename not in completed_jobs:\n",
    "        batch_list.append(filename)\n",
    "\n",
    "# Output batch list\n",
    "print(f\"Collected {len(batch_list)} new jobs for the batch.\")\n",
    "\n",
    "# Create a new batch folder with increasing number\n",
    "\n",
    "# Find the current highest batch number\n",
    "if batch_folders:\n",
    "    # Extract numbers from existing batch folders\n",
    "    batch_numbers = [int(folder.split('_')[1]) for folder in batch_folders if folder.split('_')[1].isdigit()]\n",
    "    new_batch_number = max(batch_numbers) + 1 if batch_numbers else 1\n",
    "else:\n",
    "    new_batch_number = 1\n",
    "\n",
    "# Create new batch folder\n",
    "new_batch_folder = f\"batch_{new_batch_number}\"\n",
    "os.makedirs(new_batch_folder, exist_ok=True)\n",
    "\n",
    "# Copy jobs to the new batch folder\n",
    "for job in batch_list:\n",
    "    source_path = os.path.join(SUBMITTED_FOLDER, job)\n",
    "    destination_path = os.path.join(new_batch_folder, job)\n",
    "    shutil.copy2(source_path, destination_path)\n",
    "\n",
    "print(f\"Created new batch folder: {new_batch_folder}\")\n",
    "print(f\"Copied {len(batch_list)} jobs to the batch folder.\")\n"
   ]
  },
  {
   "cell_type": "markdown",
   "id": "5937b50b",
   "metadata": {},
   "source": [
    "- via scp transfer batch to raven\n",
    "- use submit_jobs.sh to submit jobs"
   ]
  },
  {
   "cell_type": "code",
   "execution_count": 6,
   "id": "98a82af4",
   "metadata": {},
   "outputs": [
    {
     "name": "stdout",
     "output_type": "stream",
     "text": [
      "Appended jobs from batch_1 to running_jobs.csv with timestamp 2025-05-19T15:58:30.406869.\n"
     ]
    }
   ],
   "source": [
    "BATCH_NUM = 1\n",
    "\n",
    "# Append all jobs in the batch folder to running_jobs.csv with timestamp and batch number\n",
    "batch_folder = f\"batch_{BATCH_NUM}\"\n",
    "if os.path.exists(batch_folder):\n",
    "    timestamp = datetime.datetime.now().isoformat()\n",
    "    with open(RUNNING_JOBS_CSV, 'a', newline='') as csvfile:\n",
    "        writer = csv.writer(csvfile)\n",
    "        for job_file in os.listdir(batch_folder):\n",
    "            if job_file.endswith('.json'):\n",
    "                writer.writerow([job_file, timestamp, BATCH_NUM])\n",
    "    print(f\"Appended jobs from {batch_folder} to {RUNNING_JOBS_CSV} with timestamp {timestamp}.\")\n",
    "else:\n",
    "    print(f\"Batch folder {batch_folder} does not exist.\")\n"
   ]
  }
 ],
 "metadata": {
  "kernelspec": {
   "display_name": "env_BA",
   "language": "python",
   "name": "python3"
  },
  "language_info": {
   "codemirror_mode": {
    "name": "ipython",
    "version": 3
   },
   "file_extension": ".py",
   "mimetype": "text/x-python",
   "name": "python",
   "nbconvert_exporter": "python",
   "pygments_lexer": "ipython3",
   "version": "3.12.3"
  }
 },
 "nbformat": 4,
 "nbformat_minor": 5
}
