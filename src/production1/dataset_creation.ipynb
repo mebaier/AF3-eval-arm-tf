{
 "cells": [
  {
   "cell_type": "markdown",
   "id": "1a1ef094",
   "metadata": {},
   "source": [
    "# Dataset Creation code\n",
    "This Notebook holds all the code for the creation of datasets that only needs to run once (e.g. annotation)"
   ]
  }
 ],
 "metadata": {
  "language_info": {
   "name": "python"
  }
 },
 "nbformat": 4,
 "nbformat_minor": 5
}
