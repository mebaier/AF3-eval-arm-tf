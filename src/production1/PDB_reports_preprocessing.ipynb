{
 "cells": [
  {
   "cell_type": "code",
   "execution_count": null,
   "id": "6fada7a9",
   "metadata": {},
   "outputs": [],
   "source": [
    "import pandas as pd\n",
    "import os\n",
    "import glob\n",
    "from pathlib import Path"
   ]
  },
  {
   "cell_type": "code",
   "execution_count": null,
   "id": "a1ad8fc0",
   "metadata": {},
   "outputs": [],
   "source": [
    "# Define the directory containing the CSV files\n",
    "pdb_reports_dir = '/home/markus/MPI_local/data/PDB_reports/2'\n",
    "\n",
    "# Get all CSV files in the directory, sorted to maintain order\n",
    "csv_files = sorted(glob.glob(os.path.join(pdb_reports_dir, '*.csv')))\n",
    "\n",
    "print(f\"Found {len(csv_files)} CSV files in {pdb_reports_dir}\")\n",
    "for file in csv_files:\n",
    "    print(f\"  - {os.path.basename(file)}\")"
   ]
  },
  {
   "cell_type": "code",
   "execution_count": null,
   "id": "d47b8f56",
   "metadata": {},
   "outputs": [],
   "source": [
    "# Read all CSV files and combine them into a single dataframe\n",
    "combined_df = pd.DataFrame()\n",
    "\n",
    "for file_path in csv_files:\n",
    "    print(f\"Reading {os.path.basename(file_path)}...\")\n",
    "    \n",
    "    # Read each CSV file, skipping first row and using second row as headers\n",
    "    df = pd.read_csv(file_path, skiprows=1, header=0)\n",
    "    \n",
    "    # Append to the combined dataframe\n",
    "    combined_df = pd.concat([combined_df, df], ignore_index=True)\n",
    "\n",
    "print(f\"\\nCombined dataframe shape: {combined_df.shape}\")\n",
    "print(f\"Columns: {list(combined_df.columns)}\")\n",
    "\n",
    "# Check for missing values in key columns\n",
    "key_columns = ['Entry ID', 'Deposition Date', 'Release Date', 'PDB ID']\n",
    "print(\"\\nMissing values in key columns:\")\n",
    "for col in key_columns:\n",
    "    if col in combined_df.columns:\n",
    "        missing_count = combined_df[col].isna().sum()\n",
    "        print(f\"{col}: {missing_count} missing values\")\n",
    "    else:\n",
    "        print(f\"{col}: Column not found\")"
   ]
  },
  {
   "cell_type": "code",
   "execution_count": null,
   "id": "719894dc",
   "metadata": {},
   "outputs": [],
   "source": [
    "# Fill missing values in key columns using forward fill\n",
    "# This fills each missing value with the last valid value that appeared before it\n",
    "print(\"Filling missing values...\")\n",
    "\n",
    "# Make a copy of the dataframe for processing\n",
    "processed_df = combined_df.copy()\n",
    "\n",
    "# Define the columns that need forward filling\n",
    "columns_to_fill = ['Entry ID', 'Deposition Date', 'Release Date', 'PDB ID']\n",
    "\n",
    "# Apply forward fill to each column\n",
    "for col in columns_to_fill:\n",
    "    if col in processed_df.columns:\n",
    "        # forward fill\n",
    "        processed_df[col] = processed_df[col].ffill()\n",
    "\n",
    "print(\"Missing values after filling:\")\n",
    "for col in columns_to_fill:\n",
    "    if col in processed_df.columns:\n",
    "        missing_count = processed_df[col].isna().sum()\n",
    "        print(f\"{col}: {missing_count} missing values\")\n",
    "\n",
    "# Display a sample of the processed data\n",
    "print(\"\\nSample of processed data:\")\n",
    "print(processed_df[columns_to_fill].head(10))"
   ]
  },
  {
   "cell_type": "code",
   "execution_count": null,
   "id": "f3905378",
   "metadata": {},
   "outputs": [],
   "source": [
    "# Save the processed dataframe to a new CSV file\n",
    "output_file = os.path.join(pdb_reports_dir, 'combined_pdb_reports_processed.csv')\n",
    "\n",
    "print(f\"Saving processed data to: {output_file}\")\n",
    "processed_df.to_csv(output_file, index=False)\n",
    "\n",
    "print(f\"Successfully saved {len(processed_df)} rows to {output_file}\")\n",
    "print(f\"Final dataframe shape: {processed_df.shape}\")"
   ]
  }
 ],
 "metadata": {
  "kernelspec": {
   "display_name": "env_BA",
   "language": "python",
   "name": "python3"
  },
  "language_info": {
   "codemirror_mode": {
    "name": "ipython",
    "version": 3
   },
   "file_extension": ".py",
   "mimetype": "text/x-python",
   "name": "python",
   "nbconvert_exporter": "python",
   "pygments_lexer": "ipython3",
   "version": "3.13.3"
  }
 },
 "nbformat": 4,
 "nbformat_minor": 5
}
