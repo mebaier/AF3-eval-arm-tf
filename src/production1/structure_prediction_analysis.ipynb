{
 "cells": [
  {
   "cell_type": "code",
   "execution_count": 9,
   "id": "e4ca695f",
   "metadata": {},
   "outputs": [],
   "source": [
    "from functions_analysis import *\n",
    "import glob\n",
    "import pandas as pd\n",
    "from DockQ.DockQ import load_PDB, run_on_all_native_interfaces\n",
    "from download_functions import *\n",
    "import os"
   ]
  },
  {
   "cell_type": "code",
   "execution_count": 3,
   "id": "e166c7fd",
   "metadata": {},
   "outputs": [],
   "source": [
    "HPC_RESULT_DIR = \"/home/markus/MPI_local/HPC_results_full\""
   ]
  },
  {
   "cell_type": "code",
   "execution_count": null,
   "id": "4befac94",
   "metadata": {},
   "outputs": [],
   "source": [
    "# # Create DataFrame from all job data\n",
    "# results_df_uc = pd.DataFrame(data=find_summary_files(HPC_RESULT_DIR))\n",
    "\n",
    "# # Print basic information about the DataFrame\n",
    "# print(f\"Total jobs processed: {len(results_df_uc)}\")\n",
    "\n",
    "# results_df_uc['pair_id'] = results_df_uc.apply(create_pair_id, axis=1)\n",
    "\n",
    "# print(f\"jobs before cleaning: {len(results_df_uc)}\")\n",
    "# results_df = clean_results(results_df_uc)\n",
    "# print(f\"jobs after cleaning: {len(results_df)}\")"
   ]
  },
  {
   "cell_type": "code",
   "execution_count": null,
   "id": "16942517",
   "metadata": {},
   "outputs": [],
   "source": [
    "id_list_looks_good = [\n",
    "    (\"Q13285\", \"A0A2R8YCH5\"),\n",
    "    (\"P04637\", \"A0A8I5KU01\"),\n",
    "    (\"P04637\", \"A0A8I5KU01\"),\n",
    "    (\"Q9H3D4\", \"A0A8I5KU01\"),\n",
    "    (\"Q8NHM5\", \"A1YPR0\"),\n",
    "    (\"Q9UJU2\", \"A0A2R8YCH5\"),\n",
    "    (\"Q9UJU2\", \"A0A2R8YCH5\"),\n",
    "    (\"Q6SJ96\", \"O14981\"),\n",
    "    (\"Q9NRY4\", \"O00750\"),\n",
    "    (\"Q6ZRS2\", \"A0A8V8TQN3\")\n",
    "]"
   ]
  },
  {
   "cell_type": "code",
   "execution_count": 4,
   "id": "30a84021",
   "metadata": {},
   "outputs": [],
   "source": [
    "review_files = glob.glob('/home/markus/MPI_local/production1/structure_reviews/*.csv')\n",
    "reviews_df = pd.concat([pd.read_csv(f) for f in review_files], ignore_index=True)"
   ]
  },
  {
   "cell_type": "code",
   "execution_count": 11,
   "id": "2f5a33ea",
   "metadata": {},
   "outputs": [
    {
     "name": "stdout",
     "output_type": "stream",
     "text": [
      "Found 12 unique PDB IDs to download\n",
      "File 3tx7.cif already exists at /home/markus/MPI_local/data/PDB/3tx7.cif\n",
      "File 8rci.cif already exists at /home/markus/MPI_local/data/PDB/8rci.cif\n",
      "File 7z71.cif already exists at /home/markus/MPI_local/data/PDB/7z71.cif\n",
      "File 9gnb.cif already exists at /home/markus/MPI_local/data/PDB/9gnb.cif\n",
      "File 8uah.cif already exists at /home/markus/MPI_local/data/PDB/8uah.cif\n",
      "File 3ouw.cif already exists at /home/markus/MPI_local/data/PDB/3ouw.cif\n",
      "File 1g3j.cif already exists at /home/markus/MPI_local/data/PDB/1g3j.cif\n",
      "File 3oc3.cif already exists at /home/markus/MPI_local/data/PDB/3oc3.cif\n",
      "File 5m6u.cif already exists at /home/markus/MPI_local/data/PDB/5m6u.cif\n",
      "File 9caf.cif already exists at /home/markus/MPI_local/data/PDB/9caf.cif\n",
      "Successfully downloaded 1jpw.cif to /home/markus/MPI_local/data/PDB/1jpw.cif\n",
      "Successfully downloaded 1jpw.cif to /home/markus/MPI_local/data/PDB/1jpw.cif\n",
      "Successfully downloaded 7yui.cif to /home/markus/MPI_local/data/PDB/7yui.cif\n",
      "\n",
      "Summary:\n",
      "Successfully processed: 12\n",
      "Failed downloads: 0\n",
      "Total processed: 12\n",
      "Successfully downloaded 7yui.cif to /home/markus/MPI_local/data/PDB/7yui.cif\n",
      "\n",
      "Summary:\n",
      "Successfully processed: 12\n",
      "Failed downloads: 0\n",
      "Total processed: 12\n"
     ]
    }
   ],
   "source": [
    "good_structs = reviews_df[reviews_df['comment'] == 'looks good']\n",
    "\n",
    "# Get unique PDB IDs from reviews_df\n",
    "unique_pdb_ids = good_structs['pdb_id'].unique()\n",
    "print(f\"Found {len(unique_pdb_ids)} unique PDB IDs to download\")\n",
    "\n",
    "# Define download directory\n",
    "pdb_download_dir = \"/home/markus/MPI_local/data/PDB\"\n",
    "\n",
    "# Download each PDB structure (function handles duplicate checking)\n",
    "downloaded_count = 0\n",
    "failed_count = 0\n",
    "\n",
    "for pdb_id in unique_pdb_ids:\n",
    "    if pd.isna(pdb_id):  # Skip NaN values\n",
    "        continue\n",
    "        \n",
    "    result = download_pdb_structure(pdb_id, pdb_download_dir)\n",
    "    if result:\n",
    "        downloaded_count += 1\n",
    "    else:\n",
    "        failed_count += 1\n",
    "\n",
    "print(f\"\\nSummary:\")\n",
    "print(f\"Successfully processed: {downloaded_count}\")\n",
    "print(f\"Failed downloads: {failed_count}\")\n",
    "print(f\"Total processed: {len([pdb_id for pdb_id in unique_pdb_ids if not pd.isna(pdb_id)])}\")"
   ]
  },
  {
   "cell_type": "code",
   "execution_count": 24,
   "id": "6bd661bb",
   "metadata": {},
   "outputs": [],
   "source": [
    "PROTEOME_PATH = '/home/markus/MPI_local/data/Proteome/uniprotkb_proteome_UP000005640_2025_05_28.tsv'\n",
    "all_uniprot = pd.read_csv(PROTEOME_PATH, low_memory=False, sep='\\t')"
   ]
  },
  {
   "cell_type": "code",
   "execution_count": 31,
   "id": "3f395530",
   "metadata": {},
   "outputs": [],
   "source": [
    "def get_job_name(id_1: str, id_2: str, df: pd.DataFrame):\n",
    "    ids_sorted = sorted([id_1.upper(), id_2.upper()])\n",
    "    row_a = df[df['Entry'] == ids_sorted[0]]\n",
    "    if row_a.empty:\n",
    "        raise Exception(f\"Not found in Uniprot df: {ids_sorted[0]}\")\n",
    "    row_b = df[df['Entry'] == ids_sorted[1]]\n",
    "    if row_b.empty:\n",
    "        raise Exception(f\"Not found in Uniprot df: {ids_sorted[1]}\")\n",
    "    length_a = row_a['Length'].iloc[0]\n",
    "    length_b = row_b['Length'].iloc[0]\n",
    "    return f\"{ids_sorted[0].lower()}_1-{length_a}_{ids_sorted[1].lower()}_1-{length_b}\""
   ]
  },
  {
   "cell_type": "code",
   "execution_count": null,
   "id": "2215b82d",
   "metadata": {},
   "outputs": [
    {
     "ename": "FileNotFoundError",
     "evalue": "[Errno 2] No such file or directory: '/home/markus/MPI_local/HPC_results_full/all/o14981_1-1849_q6sj96_1-343/o14981_1-1849_q6sj96_1-343/o14981_1-1849_q6sj96_1-343_model.cif'",
     "output_type": "error",
     "traceback": [
      "\u001b[31m---------------------------------------------------------------------------\u001b[39m",
      "\u001b[31mFileNotFoundError\u001b[39m                         Traceback (most recent call last)",
      "\u001b[36mFile \u001b[39m\u001b[32m~/MPI_local/env_BA/lib/python3.12/site-packages/DockQ/DockQ.py:653\u001b[39m, in \u001b[36mload_PDB\u001b[39m\u001b[34m(path, chains, small_molecule, n_model)\u001b[39m\n\u001b[32m    650\u001b[39m     pdb_parser = PDBParser(QUIET=\u001b[38;5;28;01mTrue\u001b[39;00m)\n\u001b[32m    651\u001b[39m     model = pdb_parser.get_structure(\n\u001b[32m    652\u001b[39m         \u001b[33m\"\u001b[39m\u001b[33m-\u001b[39m\u001b[33m\"\u001b[39m,\n\u001b[32m--> \u001b[39m\u001b[32m653\u001b[39m         \u001b[43m(\u001b[49m\u001b[43mgzip\u001b[49m\u001b[43m.\u001b[49m\u001b[43mopen\u001b[49m\u001b[43m \u001b[49m\u001b[38;5;28;43;01mif\u001b[39;49;00m\u001b[43m \u001b[49m\u001b[43mpath\u001b[49m\u001b[43m.\u001b[49m\u001b[43mendswith\u001b[49m\u001b[43m(\u001b[49m\u001b[33;43m\"\u001b[39;49m\u001b[33;43m.gz\u001b[39;49m\u001b[33;43m\"\u001b[39;49m\u001b[43m)\u001b[49m\u001b[43m \u001b[49m\u001b[38;5;28;43;01melse\u001b[39;49;00m\u001b[43m \u001b[49m\u001b[38;5;28;43mopen\u001b[39;49m\u001b[43m)\u001b[49m\u001b[43m(\u001b[49m\u001b[43mpath\u001b[49m\u001b[43m,\u001b[49m\u001b[43m \u001b[49m\u001b[33;43m\"\u001b[39;49m\u001b[33;43mrt\u001b[39;49m\u001b[33;43m\"\u001b[39;49m\u001b[43m)\u001b[49m,\n\u001b[32m    654\u001b[39m         chains=chains,\n\u001b[32m    655\u001b[39m         parse_hetatms=small_molecule,\n\u001b[32m    656\u001b[39m         model_number=n_model,\n\u001b[32m    657\u001b[39m     )\n\u001b[32m    658\u001b[39m \u001b[38;5;28;01mexcept\u001b[39;00m \u001b[38;5;167;01mException\u001b[39;00m:\n",
      "\u001b[31mFileNotFoundError\u001b[39m: [Errno 2] No such file or directory: '/home/markus/MPI_local/HPC_results_full/all/o14981_1-1849_q6sj96_1-343/o14981_1-1849_q6sj96_1-343/o14981_1-1849_q6sj96_1-343_model.cif'",
      "\nDuring handling of the above exception, another exception occurred:\n",
      "\u001b[31mFileNotFoundError\u001b[39m                         Traceback (most recent call last)",
      "\u001b[36mCell\u001b[39m\u001b[36m \u001b[39m\u001b[32mIn[33]\u001b[39m\u001b[32m, line 6\u001b[39m\n\u001b[32m      4\u001b[39m \u001b[38;5;28;01mfor\u001b[39;00m index, row \u001b[38;5;129;01min\u001b[39;00m good_structs.iterrows():\n\u001b[32m      5\u001b[39m     job_name = get_job_name(row[\u001b[33m'\u001b[39m\u001b[33mquery_x\u001b[39m\u001b[33m'\u001b[39m].split(\u001b[33m'\u001b[39m\u001b[33m|\u001b[39m\u001b[33m'\u001b[39m)[\u001b[32m0\u001b[39m], row[\u001b[33m'\u001b[39m\u001b[33mquery_y\u001b[39m\u001b[33m'\u001b[39m].split(\u001b[33m'\u001b[39m\u001b[33m|\u001b[39m\u001b[33m'\u001b[39m)[\u001b[32m0\u001b[39m], all_uniprot)\n\u001b[32m----> \u001b[39m\u001b[32m6\u001b[39m     model = \u001b[43mload_PDB\u001b[49m\u001b[43m(\u001b[49m\u001b[33;43mf\u001b[39;49m\u001b[33;43m'\u001b[39;49m\u001b[38;5;132;43;01m{\u001b[39;49;00m\u001b[43mMODEL_PATH_PREFIX\u001b[49m\u001b[38;5;132;43;01m}\u001b[39;49;00m\u001b[38;5;132;43;01m{\u001b[39;49;00m\u001b[43mjob_name\u001b[49m\u001b[38;5;132;43;01m}\u001b[39;49;00m\u001b[33;43m/\u001b[39;49m\u001b[38;5;132;43;01m{\u001b[39;49;00m\u001b[43mjob_name\u001b[49m\u001b[38;5;132;43;01m}\u001b[39;49;00m\u001b[33;43m/\u001b[39;49m\u001b[38;5;132;43;01m{\u001b[39;49;00m\u001b[43mjob_name\u001b[49m\u001b[38;5;132;43;01m}\u001b[39;49;00m\u001b[33;43m_model.cif\u001b[39;49m\u001b[33;43m'\u001b[39;49m\u001b[43m)\u001b[49m\n\u001b[32m      7\u001b[39m     native = load_PDB(\u001b[33mf\u001b[39m\u001b[33m'\u001b[39m\u001b[38;5;132;01m{\u001b[39;00mNATIVE_PATH_PREFIX\u001b[38;5;132;01m}\u001b[39;00m\u001b[38;5;132;01m{\u001b[39;00mrow[\u001b[33m'\u001b[39m\u001b[33mpdb_id\u001b[39m\u001b[33m'\u001b[39m].lower()\u001b[38;5;132;01m}\u001b[39;00m\u001b[33m.cif\u001b[39m\u001b[33m'\u001b[39m)\n",
      "\u001b[36mFile \u001b[39m\u001b[32m~/MPI_local/env_BA/lib/python3.12/site-packages/DockQ/DockQ.py:662\u001b[39m, in \u001b[36mload_PDB\u001b[39m\u001b[34m(path, chains, small_molecule, n_model)\u001b[39m\n\u001b[32m    658\u001b[39m \u001b[38;5;28;01mexcept\u001b[39;00m \u001b[38;5;167;01mException\u001b[39;00m:\n\u001b[32m    659\u001b[39m     pdb_parser = MMCIFParser(QUIET=\u001b[38;5;28;01mTrue\u001b[39;00m)\n\u001b[32m    660\u001b[39m     model = pdb_parser.get_structure(\n\u001b[32m    661\u001b[39m         \u001b[33m\"\u001b[39m\u001b[33m-\u001b[39m\u001b[33m\"\u001b[39m,\n\u001b[32m--> \u001b[39m\u001b[32m662\u001b[39m         \u001b[43m(\u001b[49m\u001b[43mgzip\u001b[49m\u001b[43m.\u001b[49m\u001b[43mopen\u001b[49m\u001b[43m \u001b[49m\u001b[38;5;28;43;01mif\u001b[39;49;00m\u001b[43m \u001b[49m\u001b[43mpath\u001b[49m\u001b[43m.\u001b[49m\u001b[43mendswith\u001b[49m\u001b[43m(\u001b[49m\u001b[33;43m\"\u001b[39;49m\u001b[33;43m.gz\u001b[39;49m\u001b[33;43m\"\u001b[39;49m\u001b[43m)\u001b[49m\u001b[43m \u001b[49m\u001b[38;5;28;43;01melse\u001b[39;49;00m\u001b[43m \u001b[49m\u001b[38;5;28;43mopen\u001b[39;49m\u001b[43m)\u001b[49m\u001b[43m(\u001b[49m\u001b[43mpath\u001b[49m\u001b[43m,\u001b[49m\u001b[43m \u001b[49m\u001b[33;43m\"\u001b[39;49m\u001b[33;43mrt\u001b[39;49m\u001b[33;43m\"\u001b[39;49m\u001b[43m)\u001b[49m,\n\u001b[32m    663\u001b[39m         chains=chains,\n\u001b[32m    664\u001b[39m         parse_hetatms=small_molecule,\n\u001b[32m    665\u001b[39m         auth_chains=\u001b[38;5;129;01mnot\u001b[39;00m small_molecule,\n\u001b[32m    666\u001b[39m         model_number=n_model,\n\u001b[32m    667\u001b[39m     )\n\u001b[32m    668\u001b[39m model.id = path\n\u001b[32m    669\u001b[39m \u001b[38;5;28;01mreturn\u001b[39;00m model\n",
      "\u001b[31mFileNotFoundError\u001b[39m: [Errno 2] No such file or directory: '/home/markus/MPI_local/HPC_results_full/all/o14981_1-1849_q6sj96_1-343/o14981_1-1849_q6sj96_1-343/o14981_1-1849_q6sj96_1-343_model.cif'"
     ]
    }
   ],
   "source": [
    "NATIVE_PATH_PREFIX = \"/home/markus/MPI_local/data/PDB/\"\n",
    "MODEL_PATH_PREFIX = \"/home/markus/MPI_local/HPC_results_full/all/\"\n",
    "\n",
    "for index, row in good_structs.iterrows():\n",
    "    job_name = get_job_name(row['query_x'].split('|')[0], row['query_y'].split('|')[0], all_uniprot)\n",
    "    model = load_PDB(f'{MODEL_PATH_PREFIX}{job_name}/{job_name}/{job_name}_model.cif')\n",
    "    native = load_PDB(f'{NATIVE_PATH_PREFIX}{row['pdb_id'].lower()}.cif')\n",
    "    chain_map = {\"A\":\"A\", \"B\":\"B\"}\n",
    "    print(run_on_all_native_interfaces(model, native, chain_map=chain_map))"
   ]
  },
  {
   "cell_type": "code",
   "execution_count": 12,
   "id": "bcdda896",
   "metadata": {},
   "outputs": [
    {
     "data": {
      "text/plain": [
       "({'AB': {'DockQ': 0.661056892654276,\n",
       "   'F1': 0.7236180904522613,\n",
       "   'iRMSD': 2.024376351186563,\n",
       "   'LRMSD': 3.157620619347018,\n",
       "   'fnat': 0.75,\n",
       "   'nat_correct': 72,\n",
       "   'nat_total': 96,\n",
       "   'fnonnat': 0.30097087378640774,\n",
       "   'nonnat_count': 31,\n",
       "   'model_total': 103,\n",
       "   'clashes': 0,\n",
       "   'len1': 496,\n",
       "   'len2': 28,\n",
       "   'class1': 'receptor',\n",
       "   'class2': 'ligand',\n",
       "   'is_het': False,\n",
       "   'chain1': 'A',\n",
       "   'chain2': 'B',\n",
       "   'chain_map': {'A': 'A', 'B': 'B'}}},\n",
       " 0.661056892654276)"
      ]
     },
     "execution_count": 12,
     "metadata": {},
     "output_type": "execute_result"
    }
   ],
   "source": [
    "model = load_PDB(\"/home/markus/MPI_local/HPC_results_full/batch_37/a0a2r8ych5_1-779_q9uju2_1-399/a0a2r8ych5_1-779_q9uju2_1-399/a0a2r8ych5_1-779_q9uju2_1-399_model.cif\")\n",
    "native = load_PDB(\"/home/markus/MPI_local/data/PDB/3ouw.cif\")\n",
    "\n",
    "# native:model chain map dictionary for two interfaces\n",
    "chain_map = {\"A\":\"A\", \"B\":\"B\"}\n",
    "# returns a dictionary containing the results and the total DockQ score\n",
    "run_on_all_native_interfaces(model, native, chain_map=chain_map)"
   ]
  }
 ],
 "metadata": {
  "kernelspec": {
   "display_name": "env_BA",
   "language": "python",
   "name": "python3"
  },
  "language_info": {
   "codemirror_mode": {
    "name": "ipython",
    "version": 3
   },
   "file_extension": ".py",
   "mimetype": "text/x-python",
   "name": "python",
   "nbconvert_exporter": "python",
   "pygments_lexer": "ipython3",
   "version": "3.12.3"
  }
 },
 "nbformat": 4,
 "nbformat_minor": 5
}
