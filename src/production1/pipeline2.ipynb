{
 "cells": [
  {
   "cell_type": "markdown",
   "id": "78bb64e8",
   "metadata": {},
   "source": [
    "# 1. Imports"
   ]
  },
  {
   "cell_type": "code",
   "execution_count": null,
   "id": "c0bae167",
   "metadata": {},
   "outputs": [],
   "source": [
    "import pandas as pd\n",
    "import numpy as np\n",
    "import matplotlib.pyplot as plt\n",
    "import seaborn as sns\n",
    "from functions_filtering import *\n",
    "\n",
    "import importlib\n",
    "import constants\n",
    "importlib.reload(constants)\n",
    "from constants import *\n",
    "\n",
    "import functions_analysis\n",
    "import functions_job_creation\n",
    "import functions_filtering\n",
    "import functions_plotting\n",
    "import functions_download\n",
    "import functions_pdb2net\n",
    "\n",
    "# Reload the module\n",
    "importlib.reload(functions_analysis)\n",
    "importlib.reload(functions_job_creation)\n",
    "importlib.reload(functions_filtering)\n",
    "importlib.reload(functions_download)\n",
    "importlib.reload(functions_plotting)\n",
    "importlib.reload(functions_pdb2net)\n",
    "\n",
    "from functions_analysis import *\n",
    "from functions_job_creation import *\n",
    "from functions_download import *\n",
    "from functions_filtering import *\n",
    "from functions_plotting import *\n",
    "from functions_pdb2net import *"
   ]
  },
  {
   "cell_type": "markdown",
   "id": "47ace3d3",
   "metadata": {},
   "source": [
    "# 2. Filter"
   ]
  },
  {
   "cell_type": "code",
   "execution_count": null,
   "id": "d9865b7f",
   "metadata": {},
   "outputs": [],
   "source": [
    "rep = pd.read_csv('/home/markus/MPI_local/data/PDB_reports/4/combined_pdb_reports_processed.csv', low_memory=False)"
   ]
  },
  {
   "cell_type": "code",
   "execution_count": null,
   "id": "03c4916b",
   "metadata": {},
   "outputs": [],
   "source": [
    "# length filter\n",
    "MIN_LENGTH = 20\n",
    "\n",
    "print(f\"Before length filter: {len(rep)}\")\n",
    "rep['Sequence length'] = rep['Sequence'].fillna('').str.len()\n",
    "rep = rep[rep['Sequence length'] >= MIN_LENGTH]\n",
    "print(f\"After length filter: {len(rep)}\")"
   ]
  },
  {
   "cell_type": "code",
   "execution_count": null,
   "id": "33ac4e97",
   "metadata": {},
   "outputs": [],
   "source": [
    "rep = add_iupred3(rep, 'long', 'no', IUPRED_CACHE_DIR, IUPRED3_THRESHOLD, MIN_LENGTH_DISORDERED_REGION, IUPRED3_PATH, debug=False)"
   ]
  },
  {
   "cell_type": "code",
   "execution_count": null,
   "id": "ef2e9fcc",
   "metadata": {},
   "outputs": [],
   "source": [
    "# filter out all PDBs that don't have at least 1 disordered chain\n",
    "print(len(rep))\n",
    "keep_pdbs = set()\n",
    "for _, row in rep.iterrows():\n",
    "    if row['num_disordered_regions'] > 0:\n",
    "        keep_pdbs.add(row['Entry ID'])\n",
    "        \n",
    "rep = rep[rep['Entry ID'].isin(keep_pdbs)]\n",
    "\n",
    "print(len(rep))"
   ]
  },
  {
   "cell_type": "code",
   "execution_count": null,
   "id": "e78150fe",
   "metadata": {},
   "outputs": [],
   "source": [
    "# filter out all PDBs that don't have at least 1 ordered chain\n",
    "print(len(rep))\n",
    "keep_pdbs = set()\n",
    "for _, row in rep.iterrows():\n",
    "    if row['num_disordered_regions'] == 0:\n",
    "        keep_pdbs.add(row['Entry ID'])\n",
    "        \n",
    "rep = rep[rep['Entry ID'].isin(keep_pdbs)]\n",
    "\n",
    "print(len(rep))"
   ]
  },
  {
   "cell_type": "code",
   "execution_count": null,
   "id": "8d3227d3",
   "metadata": {},
   "outputs": [],
   "source": [
    "# write into directory for PDB2Net processing\n",
    "PDB2NET_PREFIX = '/home/markus/PDB2Net/in/'\n",
    "path_prefix = PDB2NET_PREFIX + 'pipeline2/'\n",
    "rep['file_path'] = rep['Entry ID'].apply(lambda id: path_prefix + id.lower() + '.cif')\n",
    "\n",
    "rep.drop_duplicates(subset=['file_path'], inplace=False)['file_path'].to_csv(PDB2NET_PREFIX + 'pipeline2.csv', index=False)\n",
    "\n",
    "# download pdb structures for pdb2net\n",
    "download_pdb_structures(set(rep['Entry ID'].tolist()), path_prefix, 'cif', '/home/markus/MPI_local/data/PDB', debug=False)"
   ]
  },
  {
   "cell_type": "code",
   "execution_count": null,
   "id": "9f71d0fc",
   "metadata": {},
   "outputs": [],
   "source": [
    "# filter out all PDBs that don't have exactly one disordered and one ordered chain\n",
    "# print(f\"Before filtering: {len(rep)}\")\n",
    "# keep_pdbs = set()\n",
    "\n",
    "# # Group by Entry ID and count ordered/disordered chains\n",
    "# for entry_id in rep['Entry ID'].unique():\n",
    "#     entry_chains = rep[rep['Entry ID'] == entry_id]\n",
    "    \n",
    "#     # Count disordered and ordered chains\n",
    "#     disordered_chains = len(entry_chains[entry_chains['num_disordered_regions'] > 0])\n",
    "#     ordered_chains = len(entry_chains[entry_chains['num_disordered_regions'] == 0])\n",
    "    \n",
    "#     # Keep only entries with exactly one ordered and one disordered chain\n",
    "#     if disordered_chains == 1 and ordered_chains == 1:\n",
    "#         keep_pdbs.add(entry_id)\n",
    "\n",
    "# rep = rep[rep['Entry ID'].isin(keep_pdbs)]\n",
    "# print(f\"After filtering: {len(rep)}\")"
   ]
  },
  {
   "cell_type": "code",
   "execution_count": null,
   "id": "fd57c449",
   "metadata": {},
   "outputs": [],
   "source": [
    "import os\n",
    "\n",
    "# annotate interface\n",
    "# define interface as having at least INTERFACE_MIN_ATOMS atoms within INTERFACE_MAX_DISTANCE A of each other \n",
    "INTERFACE_MIN_ATOMS = 10\n",
    "INTERFACE_MAX_DISTANCE = 5 # higher not possible => change PDB2Net data"
   ]
  },
  {
   "cell_type": "code",
   "execution_count": null,
   "id": "02d716b1",
   "metadata": {},
   "outputs": [],
   "source": [
    "PATH = '/home/markus/MPI_local/data/PDB2Net/pipeline2/2025-08-28_19-38-42'\n",
    "interfaces_df = get_interfaces_pdb2net(PATH, INTERFACE_MIN_ATOMS, INTERFACE_MAX_DISTANCE, '/home/markus/MPI_local/production1/pdb2net_cache')"
   ]
  },
  {
   "cell_type": "code",
   "execution_count": null,
   "id": "1b055768",
   "metadata": {},
   "outputs": [],
   "source": [
    "# Deduplicate interfaces based on UniProt IDs\n",
    "print(f\"Before deduplication: {len(interfaces_df)} interfaces\")\n",
    "\n",
    "interfaces_df['normalized_uniprot'] = interfaces_df['Uniprot IDs'].apply(normalize_uniprot_pair)\n",
    "interfaces_df = interfaces_df.drop_duplicates(subset=['normalized_uniprot'])\n",
    "interfaces_df = interfaces_df.drop('normalized_uniprot', axis=1)\n",
    "\n",
    "print(f\"After deduplication: {len(interfaces_df)} interfaces\")"
   ]
  },
  {
   "cell_type": "code",
   "execution_count": null,
   "id": "83bbbb64",
   "metadata": {},
   "outputs": [],
   "source": [
    "# use only interactions between ordered-disordered chain\n",
    "rep_reindex = rep.copy()\n",
    "\n",
    "rep_reindex.set_index(['Entry ID', 'Asym ID'], inplace=True)\n",
    "\n",
    "import json\n",
    "print(len(interfaces_df))\n",
    "\n",
    "for ind,row in interfaces_df.iterrows():\n",
    "    interface_id = json.loads(row['Interface ID'].replace('\\'', '\"'))\n",
    "    chainID_1 = interface_id[0]\n",
    "    chainID_2 = interface_id[1]\n",
    "    try:\n",
    "        disorder_chain1 = int(rep_reindex.loc[(row['Entry ID'], chainID_1), 'num_disordered_regions'])\n",
    "        disorder_chain2 = int(rep_reindex.loc[(row['Entry ID'], chainID_2), 'num_disordered_regions'])\n",
    "    except KeyError as e:\n",
    "        # Skip this interface if entry/chain not found\n",
    "        # print(f\"Entry not found: {e}\")\n",
    "        interfaces_df.drop(ind, inplace=True)\n",
    "        continue\n",
    "    disorder_chain1 = int(rep_reindex.loc[(row['Entry ID'], chainID_1), 'num_disordered_regions'])\n",
    "    disorder_chain2 = int(rep_reindex.loc[(row['Entry ID'], chainID_2), 'num_disordered_regions'])\n",
    "    \n",
    "    if not ((disorder_chain1 == 0 and disorder_chain2 >= 1) or (disorder_chain2 == 0 and disorder_chain1 >= 1)):\n",
    "        interfaces_df.drop(ind, inplace=True)\n",
    "        \n",
    "print(len(interfaces_df))"
   ]
  },
  {
   "cell_type": "markdown",
   "id": "c3903ceb",
   "metadata": {},
   "source": [
    "# 3. Job Creation"
   ]
  },
  {
   "cell_type": "code",
   "execution_count": null,
   "id": "6f62dd0a",
   "metadata": {},
   "outputs": [],
   "source": [
    "BATCH_DIRS = []\n",
    "BATCH_DIRS.extend([os.path.join('../../production1/PDB_modelling/', d) for d in os.listdir('../../production1/PDB_modelling') if os.path.isdir(os.path.join('../../production1/PDB_modelling', d)) and 'batch' in d])\n",
    "\n",
    "new_af_jobs = create_job_batch_from_PDB_IDs(list(set(interfaces_df['Entry ID'].tolist())), BATCH_DIRS, 5120)\n",
    "write_af_jobs_to_individual_files(new_af_jobs, '../../production1/PDB_modelling/batch_10')"
   ]
  },
  {
   "cell_type": "markdown",
   "id": "2f2e1fb5",
   "metadata": {},
   "source": [
    "# 4. Analysis"
   ]
  }
 ],
 "metadata": {
  "kernelspec": {
   "display_name": "env_BA",
   "language": "python",
   "name": "python3"
  },
  "language_info": {
   "codemirror_mode": {
    "name": "ipython",
    "version": 3
   },
   "file_extension": ".py",
   "mimetype": "text/x-python",
   "name": "python",
   "nbconvert_exporter": "python",
   "pygments_lexer": "ipython3",
   "version": "3.13.3"
  }
 },
 "nbformat": 4,
 "nbformat_minor": 5
}
