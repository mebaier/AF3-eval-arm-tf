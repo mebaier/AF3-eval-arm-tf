{
 "cells": [
  {
   "cell_type": "code",
   "execution_count": null,
   "id": "e168902a",
   "metadata": {},
   "outputs": [],
   "source": [
    "\"\"\"\n",
    "Plot AlphaFold3 PAE matrix in AF3 style.\n",
    "Input: JSON file containing key 'predicted_aligned_error'.\n",
    "\"\"\"\n",
    "\n",
    "import json\n",
    "import sys\n",
    "import numpy as np\n",
    "import matplotlib.pyplot as plt\n",
    "from matplotlib.colors import LinearSegmentedColormap\n",
    "\n",
    "def plot_pae(json_file, out_file=\"pae_plot.png\"):\n",
    "    # load data\n",
    "    with open(json_file, \"r\") as f:\n",
    "        data = json.load(f)\n",
    "\n",
    "    pae = np.array(data[\"pae\"])\n",
    "    n = pae.shape[0]\n",
    "\n",
    "    # Create custom colormap from dark purple to light purple\n",
    "    colors = ['#41005b', '#e2a1fc']\n",
    "    custom_cmap = LinearSegmentedColormap.from_list('custom_purple', colors)\n",
    "\n",
    "    # Custom style: dark purple = low error, light purple = high error\n",
    "    fig, ax = plt.subplots(figsize=(6, 6))\n",
    "    im = ax.imshow(\n",
    "        pae,\n",
    "        cmap=custom_cmap,   # Custom purple palette\n",
    "        origin=\"upper\",\n",
    "        vmin=0,\n",
    "        vmax=30             # AF convention: clip at 30 Å\n",
    "    )\n",
    "\n",
    "    cbar = plt.colorbar(im, ax=ax, fraction=0.046, pad=0.04)\n",
    "    cbar.set_label(\"Predicted aligned error (Å)\")\n",
    "\n",
    "    # Set tick positions and labels to start from 1\n",
    "    ax.set_xticks(range(0, n, max(1, n//10)))\n",
    "    ax.set_xticklabels([str(i+1) for i in range(0, n, max(1, n//10))])\n",
    "    ax.set_yticks(range(0, n, max(1, n//10)))\n",
    "    ax.set_yticklabels([str(i+1) for i in range(0, n, max(1, n//10))])\n",
    "    \n",
    "    ax.set_xlabel(\"Expected position error (Angstrom)\")\n",
    "    ax.set_ylabel(\"Aligned residue\")\n",
    "    ax.set_title(\"Predicted aligned error (PAE)\")\n",
    "\n",
    "    plt.tight_layout()\n",
    "    plt.savefig(out_file, dpi=300)\n",
    "    plt.show()\n",
    "\n",
    "\n",
    "if __name__ == \"__main__\":\n",
    "    infile = \"/home/markus/MPI_local/data/plotting/o00629_1-521_q14814_1-521/o00629_1-521_q14814_1-521/o00629_1-521_q14814_1-521_confidences.json\"\n",
    "    outfile = '/home/markus/Desktop/Thesis/o00629_1-521_q14814_1-521_pae_plot.png'\n",
    "    plot_pae(infile, outfile)"
   ]
  }
 ],
 "metadata": {
  "kernelspec": {
   "display_name": "env_BA",
   "language": "python",
   "name": "python3"
  },
  "language_info": {
   "codemirror_mode": {
    "name": "ipython",
    "version": 3
   },
   "file_extension": ".py",
   "mimetype": "text/x-python",
   "name": "python",
   "nbconvert_exporter": "python",
   "pygments_lexer": "ipython3",
   "version": "3.13.3"
  }
 },
 "nbformat": 4,
 "nbformat_minor": 5
}
