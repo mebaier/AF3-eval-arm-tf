{
 "cells": [
  {
   "cell_type": "code",
   "execution_count": 1,
   "id": "791967d2",
   "metadata": {},
   "outputs": [],
   "source": [
    "import pandas as pd\n",
    "import re\n"
   ]
  },
  {
   "cell_type": "code",
   "execution_count": null,
   "id": "a078d80b",
   "metadata": {},
   "outputs": [],
   "source": [
    "\n",
    "\n",
    "tf_search = pd.read_csv('SearchResultstranscription factor.tsv', sep='\\t')\n",
    "\n",
    "\n",
    "\n",
    "def interpro_str(x):\n",
    "    return 'INTERPRO' in x\n",
    "\n",
    "def tf_str(x):\n",
    "    return 'transcription factor' in x.lower()\n",
    "\n",
    "def tf_rgx(x):\n",
    "    return bool(re.search(r'[tT]ranscription.*[f,F]actor', x))\n",
    "\n",
    "def t_str(x):\n",
    "    return 'transcription' in x.lower()\n",
    "\n",
    "\n",
    "tf_search_ipr = tf_search[tf_search['Source Database'].apply(lambda x: 'INTERPRO' in x)]\n",
    "\n",
    "tf_search_n_str = tf_search_ipr[tf_search_ipr['Name'].apply(lambda x: not tf_str(x))]\n",
    "\n",
    "tf_search_n_rgx = tf_search_n_str[tf_search_n_str['Name'].apply(lambda x: not tf_rgx(x))]"
   ]
  },
  {
   "cell_type": "code",
   "execution_count": null,
   "id": "4b5783c9",
   "metadata": {},
   "outputs": [],
   "source": [
    "from lxml import etree\n",
    "\n",
    "def read_xml_with_dtd(xml_file, dtd_file=None):\n",
    "    \"\"\"\n",
    "    Read XML file with DTD validation.\n",
    "\n",
    "    Parameters\n",
    "    ----------\n",
    "    xml_file : str\n",
    "        Path to the XML file.\n",
    "    dtd_file : str, optional\n",
    "        Path to the DTD file. If None, uses DTD reference in the XML.\n",
    "\n",
    "    Returns\n",
    "    -------\n",
    "    pandas.DataFrame or None\n",
    "    \"\"\"\n",
    "    try:\n",
    "        if dtd_file:\n",
    "            # Load DTD and parse XML\n",
    "            with open(dtd_file) as f:\n",
    "                dtd = etree.DTD(f)\n",
    "\n",
    "            tree = etree.parse(xml_file)\n",
    "\n",
    "            # Validate against DTD\n",
    "            if not dtd.validate(tree):\n",
    "                print(\"DTD validation errors:\")\n",
    "                print(dtd.error_log.filter_from_errors())\n",
    "                return None\n",
    "        else:\n",
    "            # Use parser that validates using DOCTYPE reference\n",
    "            parser = etree.XMLParser(dtd_validation=True)\n",
    "            tree = etree.parse(xml_file, parser)\n",
    "\n",
    "        # Convert to DataFrame\n",
    "        return pd.read_xml(xml_file)\n",
    "\n",
    "    except Exception as e:\n",
    "        print(f\"Error: {e}\")\n",
    "        return None\n",
    "\n",
    "ipr_xml = read_xml_with_dtd('interpro.xml', dtd_file='interpro.dtd')"
   ]
  }
 ],
 "metadata": {
  "kernelspec": {
   "display_name": "env_BA",
   "language": "python",
   "name": "python3"
  },
  "language_info": {
   "codemirror_mode": {
    "name": "ipython",
    "version": 3
   },
   "file_extension": ".py",
   "mimetype": "text/x-python",
   "name": "python",
   "nbconvert_exporter": "python",
   "pygments_lexer": "ipython3",
   "version": "3.12.3"
  }
 },
 "nbformat": 4,
 "nbformat_minor": 5
}
