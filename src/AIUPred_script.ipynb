{
 "cells": [
  {
   "cell_type": "code",
   "execution_count": null,
   "id": "dd20f4e1",
   "metadata": {},
   "outputs": [],
   "source": [
    "import aiupred_lib\n",
    "# Load the models and let AIUPred find if a GPU is available.     \n",
    "embedding_model, regression_model, device = aiupred_lib.init_models('disorder')\n",
    "# Predict disorder of a sequence\n",
    "sequence = 'THISISATESTSEQENCE'\n",
    "prediction = aiupred_lib.predict_disorder(sequence, embedding_model, regression_model, device,\n",
    "                                          smoothing=True)"
   ]
  },
  {
   "cell_type": "code",
   "execution_count": null,
   "id": "9d0a2704",
   "metadata": {},
   "outputs": [],
   "source": [
    "import pandas as pd\n",
    "all_proteins = pd.read_csv('../data/Proteome/uniprotkb_proteome_UP000005640_2025_05_12.tsv', sep='\\t')\n",
    "reviewed_proteins = all_proteins[all_proteins['Reviewed'] == 'reviewed']"
   ]
  },
  {
   "cell_type": "code",
   "execution_count": null,
   "id": "1940c2e3",
   "metadata": {},
   "outputs": [],
   "source": [
    "import time\n",
    "seq_100 = reviewed_proteins['Sequence'][:100].tolist()\n",
    "\n",
    "predictions = []\n",
    "\n",
    "start = time.time()\n",
    "i=0\n",
    "for seq in seq_100:\n",
    "    print(i)\n",
    "    i+=1\n",
    "    predictions.append(aiupred_lib.predict_disorder(seq, embedding_model, regression_model, device,\n",
    "                                          smoothing=True))\n",
    "end = time.time()\n",
    "\n",
    "print(start-end)"
   ]
  }
 ],
 "metadata": {
  "kernelspec": {
   "display_name": "env_BA_3.11",
   "language": "python",
   "name": "python3"
  },
  "language_info": {
   "codemirror_mode": {
    "name": "ipython",
    "version": 3
   },
   "file_extension": ".py",
   "mimetype": "text/x-python",
   "name": "python",
   "nbconvert_exporter": "python",
   "pygments_lexer": "ipython3",
   "version": "3.11.13"
  }
 },
 "nbformat": 4,
 "nbformat_minor": 5
}
